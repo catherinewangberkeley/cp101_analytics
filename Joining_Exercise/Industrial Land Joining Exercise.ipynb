{
 "cells": [
  {
   "cell_type": "markdown",
   "metadata": {},
   "source": [
    "This exercise is built for CP-101 Industrial Land Report https://www.planningfor.jobs/ <br>\n",
    "The goal of this exercise is to work with joining 3 tabular data: tax accessor data, zoning data and business data for 2011. We will also explore spatial joining techniques with the focus on Alameda county. "
   ]
  },
  {
   "cell_type": "markdown",
   "metadata": {},
   "source": [
    "## Data Wrangling: Dataframe Merge, Join, Pivot, etc and Spatial Join\n",
    "Today we will cover the following topic:\n",
    "- Merge & Join\n",
    "- Tranpose & Pivot & Concatenate\n",
    "- Groupby & Aggregate\n",
    "- Attribute & Spatial Join "
   ]
  },
  {
   "cell_type": "markdown",
   "metadata": {},
   "source": [
    "First, let's import the necessary packages. We will be using Pandas, a popular dataframe manipulation. If you do not have these packages, you'd need to install them, for example, run `pip install pandas` to install the pandas package before running the import cell below."
   ]
  },
  {
   "cell_type": "code",
   "execution_count": 187,
   "metadata": {},
   "outputs": [],
   "source": [
    "import pandas as pd\n",
    "import geopandas as gdp\n",
    "import matplotlib.pyplot as plt\n",
    "import numpy as np\n",
    "from IPython.display import Image\n",
    "import warnings\n",
    "warnings.filterwarnings('ignore')\n",
    "warnings.simplefilter('ignore')"
   ]
  },
  {
   "cell_type": "markdown",
   "metadata": {},
   "source": [
    "Now, let's import the data that we will be using in this excercise. Remember to practice good naming convention. <br>\n",
    "We will need to know where our current location is first to read in the files. Using `pwd()` will print the working directory."
   ]
  },
  {
   "cell_type": "code",
   "execution_count": 4,
   "metadata": {
    "scrolled": true
   },
   "outputs": [
    {
     "data": {
      "text/plain": [
       "'C:\\\\Users\\\\alice\\\\Downloads\\\\CP_101lab'"
      ]
     },
     "execution_count": 4,
     "metadata": {},
     "output_type": "execute_result"
    }
   ],
   "source": [
    "pwd()"
   ]
  },
  {
   "cell_type": "markdown",
   "metadata": {},
   "source": [
    "Within this directory lives this excercise notebook and another folder labelled files, I have saved the datasets in there. Let's read them read into this notebook. Note*: change your data path to where the files live. "
   ]
  },
  {
   "cell_type": "code",
   "execution_count": 188,
   "metadata": {},
   "outputs": [],
   "source": [
    "tax_data = pd.read_csv(r\"files\\data\\Alameda_taxaccessor_data.csv\", low_memory=False)\n",
    "zoning_data = pd.read_csv(r\"files\\data\\Alameda_zoning_data.csv\", low_memory=False)\n",
    "business_data = pd.read_csv(r\"files\\data\\Alameda_business_data.csv\", low_memory=False)\n",
    "alameda_shp = gdp.read_file(r\"files\\data\\Alameda_shapefile\\Alameda_Complete.shp\", low_memory=False)"
   ]
  },
  {
   "cell_type": "markdown",
   "metadata": {},
   "source": [
    "As in the earlier jupyter excercises, we went over how to access the data in a dataframe format. Let's check our 4 dataframes with these techniques: `head()`, `tail()`, `iloc[]` and `loc[]`."
   ]
  },
  {
   "cell_type": "code",
   "execution_count": 47,
   "metadata": {
    "scrolled": true
   },
   "outputs": [
    {
     "data": {
      "text/html": [
       "<div>\n",
       "<style scoped>\n",
       "    .dataframe tbody tr th:only-of-type {\n",
       "        vertical-align: middle;\n",
       "    }\n",
       "\n",
       "    .dataframe tbody tr th {\n",
       "        vertical-align: top;\n",
       "    }\n",
       "\n",
       "    .dataframe thead th {\n",
       "        text-align: right;\n",
       "    }\n",
       "</style>\n",
       "<table border=\"1\" class=\"dataframe\">\n",
       "  <thead>\n",
       "    <tr style=\"text-align: right;\">\n",
       "      <th></th>\n",
       "      <th>apn</th>\n",
       "      <th>dunsnumber</th>\n",
       "      <th>sa_property_id</th>\n",
       "      <th>sa_owner_1</th>\n",
       "      <th>sa_owner_1_mid</th>\n",
       "      <th>sa_owner_1_last</th>\n",
       "      <th>sa_owner_1_sp_first</th>\n",
       "      <th>sa_owner_2</th>\n",
       "      <th>sa_owner_2_first</th>\n",
       "      <th>sa_ownership_status_code</th>\n",
       "      <th>...</th>\n",
       "      <th>sa_val_transfer</th>\n",
       "      <th>sa_doc_nbr_fmt</th>\n",
       "      <th>sa_date_noval_transfer</th>\n",
       "      <th>sa_doc_nbr_noval</th>\n",
       "      <th>sa_x_coord</th>\n",
       "      <th>sa_y_coord</th>\n",
       "      <th>sa_census_tract</th>\n",
       "      <th>sa_census_block_group</th>\n",
       "      <th>minor_civil_division_code</th>\n",
       "      <th>fips_place_code</th>\n",
       "    </tr>\n",
       "  </thead>\n",
       "  <tbody>\n",
       "    <tr>\n",
       "      <th>27348</th>\n",
       "      <td>461-15-26-1</td>\n",
       "      <td>969932024</td>\n",
       "      <td>38448285.0</td>\n",
       "      <td>MKD CORP PLACE</td>\n",
       "      <td>NaN</td>\n",
       "      <td>NaN</td>\n",
       "      <td>NaN</td>\n",
       "      <td>MKD INVESTMENT</td>\n",
       "      <td>MKD INVESTMENT</td>\n",
       "      <td>LP</td>\n",
       "      <td>...</td>\n",
       "      <td>0.0</td>\n",
       "      <td>200973</td>\n",
       "      <td>NaN</td>\n",
       "      <td>NaN</td>\n",
       "      <td>122.11102</td>\n",
       "      <td>37.624001</td>\n",
       "      <td>437101.0</td>\n",
       "      <td>1.0</td>\n",
       "      <td>91260.0</td>\n",
       "      <td>33000.0</td>\n",
       "    </tr>\n",
       "    <tr>\n",
       "      <th>27349</th>\n",
       "      <td>99-1325-82</td>\n",
       "      <td>969948558</td>\n",
       "      <td>38398379.0</td>\n",
       "      <td>COMMON AREA OF POR PM 5883 72 THRU 81</td>\n",
       "      <td>NaN</td>\n",
       "      <td>NaN</td>\n",
       "      <td>NaN</td>\n",
       "      <td>CUPERTINO CAPITL INC</td>\n",
       "      <td>CUPERTINO CAPITL INC</td>\n",
       "      <td>NaN</td>\n",
       "      <td>...</td>\n",
       "      <td>0.0</td>\n",
       "      <td>000*185561</td>\n",
       "      <td>NaN</td>\n",
       "      <td>NaN</td>\n",
       "      <td>121.73676</td>\n",
       "      <td>37.700550</td>\n",
       "      <td>451504.0</td>\n",
       "      <td>1.0</td>\n",
       "      <td>91660.0</td>\n",
       "      <td>41992.0</td>\n",
       "    </tr>\n",
       "    <tr>\n",
       "      <th>27350</th>\n",
       "      <td>53-1655-9</td>\n",
       "      <td>969975929</td>\n",
       "      <td>38263178.0</td>\n",
       "      <td>TEMESCAL LLC &amp; CONTRA COSTA INDUSTRIAL PARK LTD</td>\n",
       "      <td>NaN</td>\n",
       "      <td>NaN</td>\n",
       "      <td>NaN</td>\n",
       "      <td>HALL EQUITIES GROUP</td>\n",
       "      <td>HALL EQUITIES GROUP</td>\n",
       "      <td>CO</td>\n",
       "      <td>...</td>\n",
       "      <td>0.0</td>\n",
       "      <td>315476</td>\n",
       "      <td>NaN</td>\n",
       "      <td>NaN</td>\n",
       "      <td>122.29323</td>\n",
       "      <td>37.853889</td>\n",
       "      <td>422000.0</td>\n",
       "      <td>1.0</td>\n",
       "      <td>90200.0</td>\n",
       "      <td>6000.0</td>\n",
       "    </tr>\n",
       "    <tr>\n",
       "      <th>27351</th>\n",
       "      <td>99B-8110-15</td>\n",
       "      <td>969995427</td>\n",
       "      <td>38406061.0</td>\n",
       "      <td>LIVERMORE LAWRENCE PROPERTIES</td>\n",
       "      <td>NaN</td>\n",
       "      <td>NaN</td>\n",
       "      <td>NaN</td>\n",
       "      <td>NORMAN,S BAILEY</td>\n",
       "      <td>S</td>\n",
       "      <td>LP</td>\n",
       "      <td>...</td>\n",
       "      <td>0.0</td>\n",
       "      <td>557497</td>\n",
       "      <td>NaN</td>\n",
       "      <td>NaN</td>\n",
       "      <td>121.70596</td>\n",
       "      <td>37.710804</td>\n",
       "      <td>451101.0</td>\n",
       "      <td>1.0</td>\n",
       "      <td>91660.0</td>\n",
       "      <td>41992.0</td>\n",
       "    </tr>\n",
       "    <tr>\n",
       "      <th>27352</th>\n",
       "      <td>99-1325-82</td>\n",
       "      <td>969997774</td>\n",
       "      <td>38398379.0</td>\n",
       "      <td>COMMON AREA OF POR PM 5883 72 THRU 81</td>\n",
       "      <td>NaN</td>\n",
       "      <td>NaN</td>\n",
       "      <td>NaN</td>\n",
       "      <td>CUPERTINO CAPITL INC</td>\n",
       "      <td>CUPERTINO CAPITL INC</td>\n",
       "      <td>NaN</td>\n",
       "      <td>...</td>\n",
       "      <td>0.0</td>\n",
       "      <td>000*185561</td>\n",
       "      <td>NaN</td>\n",
       "      <td>NaN</td>\n",
       "      <td>121.73676</td>\n",
       "      <td>37.700550</td>\n",
       "      <td>451504.0</td>\n",
       "      <td>1.0</td>\n",
       "      <td>91660.0</td>\n",
       "      <td>41992.0</td>\n",
       "    </tr>\n",
       "  </tbody>\n",
       "</table>\n",
       "<p>5 rows × 57 columns</p>\n",
       "</div>"
      ],
      "text/plain": [
       "               apn  dunsnumber  sa_property_id  \\\n",
       "27348  461-15-26-1   969932024      38448285.0   \n",
       "27349   99-1325-82   969948558      38398379.0   \n",
       "27350    53-1655-9   969975929      38263178.0   \n",
       "27351  99B-8110-15   969995427      38406061.0   \n",
       "27352   99-1325-82   969997774      38398379.0   \n",
       "\n",
       "                                            sa_owner_1 sa_owner_1_mid  \\\n",
       "27348                                   MKD CORP PLACE            NaN   \n",
       "27349            COMMON AREA OF POR PM 5883 72 THRU 81            NaN   \n",
       "27350  TEMESCAL LLC & CONTRA COSTA INDUSTRIAL PARK LTD            NaN   \n",
       "27351                    LIVERMORE LAWRENCE PROPERTIES            NaN   \n",
       "27352            COMMON AREA OF POR PM 5883 72 THRU 81            NaN   \n",
       "\n",
       "      sa_owner_1_last sa_owner_1_sp_first            sa_owner_2  \\\n",
       "27348             NaN                 NaN        MKD INVESTMENT   \n",
       "27349             NaN                 NaN  CUPERTINO CAPITL INC   \n",
       "27350             NaN                 NaN   HALL EQUITIES GROUP   \n",
       "27351             NaN                 NaN       NORMAN,S BAILEY   \n",
       "27352             NaN                 NaN  CUPERTINO CAPITL INC   \n",
       "\n",
       "           sa_owner_2_first sa_ownership_status_code  ...  sa_val_transfer  \\\n",
       "27348        MKD INVESTMENT                       LP  ...              0.0   \n",
       "27349  CUPERTINO CAPITL INC                      NaN  ...              0.0   \n",
       "27350   HALL EQUITIES GROUP                       CO  ...              0.0   \n",
       "27351                     S                       LP  ...              0.0   \n",
       "27352  CUPERTINO CAPITL INC                      NaN  ...              0.0   \n",
       "\n",
       "      sa_doc_nbr_fmt sa_date_noval_transfer sa_doc_nbr_noval sa_x_coord  \\\n",
       "27348         200973                    NaN              NaN  122.11102   \n",
       "27349     000*185561                    NaN              NaN  121.73676   \n",
       "27350         315476                    NaN              NaN  122.29323   \n",
       "27351         557497                    NaN              NaN  121.70596   \n",
       "27352     000*185561                    NaN              NaN  121.73676   \n",
       "\n",
       "       sa_y_coord  sa_census_tract sa_census_block_group  \\\n",
       "27348   37.624001         437101.0                   1.0   \n",
       "27349   37.700550         451504.0                   1.0   \n",
       "27350   37.853889         422000.0                   1.0   \n",
       "27351   37.710804         451101.0                   1.0   \n",
       "27352   37.700550         451504.0                   1.0   \n",
       "\n",
       "      minor_civil_division_code fips_place_code  \n",
       "27348                   91260.0         33000.0  \n",
       "27349                   91660.0         41992.0  \n",
       "27350                   90200.0          6000.0  \n",
       "27351                   91660.0         41992.0  \n",
       "27352                   91660.0         41992.0  \n",
       "\n",
       "[5 rows x 57 columns]"
      ]
     },
     "execution_count": 47,
     "metadata": {},
     "output_type": "execute_result"
    }
   ],
   "source": [
    "tax_data.tail()"
   ]
  },
  {
   "cell_type": "code",
   "execution_count": 17,
   "metadata": {
    "scrolled": false
   },
   "outputs": [
    {
     "data": {
      "text/html": [
       "<div>\n",
       "<style scoped>\n",
       "    .dataframe tbody tr th:only-of-type {\n",
       "        vertical-align: middle;\n",
       "    }\n",
       "\n",
       "    .dataframe tbody tr th {\n",
       "        vertical-align: top;\n",
       "    }\n",
       "\n",
       "    .dataframe thead th {\n",
       "        text-align: right;\n",
       "    }\n",
       "</style>\n",
       "<table border=\"1\" class=\"dataframe\">\n",
       "  <thead>\n",
       "    <tr style=\"text-align: right;\">\n",
       "      <th></th>\n",
       "      <th>apn</th>\n",
       "      <th>dunsnumber</th>\n",
       "      <th>company</th>\n",
       "      <th>address</th>\n",
       "      <th>city</th>\n",
       "      <th>sit_full_s</th>\n",
       "      <th>sit_city</th>\n",
       "      <th>sit_zip</th>\n",
       "      <th>xcoord</th>\n",
       "      <th>ycoord</th>\n",
       "      <th>minx</th>\n",
       "      <th>miny</th>\n",
       "      <th>maxx</th>\n",
       "      <th>maxy</th>\n",
       "      <th>indzoning</th>\n",
       "      <th>category</th>\n",
       "      <th>area</th>\n",
       "      <th>area_updat</th>\n",
       "      <th>county</th>\n",
       "    </tr>\n",
       "  </thead>\n",
       "  <tbody>\n",
       "    <tr>\n",
       "      <th>0</th>\n",
       "      <td>99-1331-18</td>\n",
       "      <td>1043780</td>\n",
       "      <td>AIRPORT MINI STORAGE</td>\n",
       "      <td>1491 RUTAN DR</td>\n",
       "      <td>LIVERMORE</td>\n",
       "      <td></td>\n",
       "      <td>Livermore</td>\n",
       "      <td>94551</td>\n",
       "      <td>-121.79942</td>\n",
       "      <td>37.693668</td>\n",
       "      <td>-121.80021</td>\n",
       "      <td>37.693077</td>\n",
       "      <td>-121.79876</td>\n",
       "      <td>37.694302</td>\n",
       "      <td>AIR-SE/AIR-OP</td>\n",
       "      <td>transp</td>\n",
       "      <td>3.833827</td>\n",
       "      <td>3.833827</td>\n",
       "      <td>Alameda</td>\n",
       "    </tr>\n",
       "    <tr>\n",
       "      <th>1</th>\n",
       "      <td>946-1250-37</td>\n",
       "      <td>1118400</td>\n",
       "      <td>HANSON BUILDING MATERIALS AMER</td>\n",
       "      <td>3000 BUSCH RD</td>\n",
       "      <td>PLEASANTON</td>\n",
       "      <td>3110 BUSCH RD</td>\n",
       "      <td>Pleasanton</td>\n",
       "      <td>94566</td>\n",
       "      <td>-121.85338</td>\n",
       "      <td>37.675373</td>\n",
       "      <td>-121.85358</td>\n",
       "      <td>37.675129</td>\n",
       "      <td>-121.85317</td>\n",
       "      <td>37.675617</td>\n",
       "      <td>I-G-40</td>\n",
       "      <td>medium</td>\n",
       "      <td>0.459112</td>\n",
       "      <td>0.459112</td>\n",
       "      <td>Alameda</td>\n",
       "    </tr>\n",
       "    <tr>\n",
       "      <th>2</th>\n",
       "      <td>57-2097-2-1</td>\n",
       "      <td>1251532</td>\n",
       "      <td>BERKELEY SENIOR CENTER CITY</td>\n",
       "      <td>1900 6TH ST</td>\n",
       "      <td>BERKELEY</td>\n",
       "      <td>1904 6TH ST</td>\n",
       "      <td>Berkeley</td>\n",
       "      <td>94710</td>\n",
       "      <td>-122.29836</td>\n",
       "      <td>37.868870</td>\n",
       "      <td>-122.29871</td>\n",
       "      <td>37.868526</td>\n",
       "      <td>-122.29802</td>\n",
       "      <td>37.869213</td>\n",
       "      <td>MU-R</td>\n",
       "      <td>MU-residential</td>\n",
       "      <td>0.758505</td>\n",
       "      <td>0.758505</td>\n",
       "      <td>Alameda</td>\n",
       "    </tr>\n",
       "    <tr>\n",
       "      <th>3</th>\n",
       "      <td>79A-541-39-2</td>\n",
       "      <td>1258479</td>\n",
       "      <td>SADERMA LEA SHOE FINDINGS INC</td>\n",
       "      <td>1650 NEPTUNE DR</td>\n",
       "      <td>SAN LEANDRO</td>\n",
       "      <td>1601 AURORA DR</td>\n",
       "      <td>San Leandro</td>\n",
       "      <td>94577</td>\n",
       "      <td>-122.19117</td>\n",
       "      <td>37.708370</td>\n",
       "      <td>-122.19223</td>\n",
       "      <td>37.707546</td>\n",
       "      <td>-122.18992</td>\n",
       "      <td>37.709194</td>\n",
       "      <td>IG</td>\n",
       "      <td>light</td>\n",
       "      <td>6.327419</td>\n",
       "      <td>6.327419</td>\n",
       "      <td>Alameda</td>\n",
       "    </tr>\n",
       "    <tr>\n",
       "      <th>4</th>\n",
       "      <td>439-66-6-4</td>\n",
       "      <td>1368039</td>\n",
       "      <td>LEE ON INC</td>\n",
       "      <td>1680 W WINTON AVE STE 11</td>\n",
       "      <td>HAYWARD</td>\n",
       "      <td>1680 W WINTON AVE</td>\n",
       "      <td>Hayward</td>\n",
       "      <td>94545</td>\n",
       "      <td>-122.12457</td>\n",
       "      <td>37.651836</td>\n",
       "      <td>-122.12498</td>\n",
       "      <td>37.650761</td>\n",
       "      <td>-122.12415</td>\n",
       "      <td>37.652908</td>\n",
       "      <td>I</td>\n",
       "      <td>medium</td>\n",
       "      <td>3.935750</td>\n",
       "      <td>3.935750</td>\n",
       "      <td>Alameda</td>\n",
       "    </tr>\n",
       "  </tbody>\n",
       "</table>\n",
       "</div>"
      ],
      "text/plain": [
       "            apn  dunsnumber                         company  \\\n",
       "0    99-1331-18     1043780            AIRPORT MINI STORAGE   \n",
       "1   946-1250-37     1118400  HANSON BUILDING MATERIALS AMER   \n",
       "2   57-2097-2-1     1251532     BERKELEY SENIOR CENTER CITY   \n",
       "3  79A-541-39-2     1258479   SADERMA LEA SHOE FINDINGS INC   \n",
       "4    439-66-6-4     1368039                      LEE ON INC   \n",
       "\n",
       "                    address         city         sit_full_s     sit_city  \\\n",
       "0             1491 RUTAN DR    LIVERMORE                       Livermore   \n",
       "1             3000 BUSCH RD   PLEASANTON      3110 BUSCH RD   Pleasanton   \n",
       "2               1900 6TH ST     BERKELEY        1904 6TH ST     Berkeley   \n",
       "3           1650 NEPTUNE DR  SAN LEANDRO     1601 AURORA DR  San Leandro   \n",
       "4  1680 W WINTON AVE STE 11      HAYWARD  1680 W WINTON AVE      Hayward   \n",
       "\n",
       "   sit_zip     xcoord     ycoord       minx       miny       maxx       maxy  \\\n",
       "0    94551 -121.79942  37.693668 -121.80021  37.693077 -121.79876  37.694302   \n",
       "1    94566 -121.85338  37.675373 -121.85358  37.675129 -121.85317  37.675617   \n",
       "2    94710 -122.29836  37.868870 -122.29871  37.868526 -122.29802  37.869213   \n",
       "3    94577 -122.19117  37.708370 -122.19223  37.707546 -122.18992  37.709194   \n",
       "4    94545 -122.12457  37.651836 -122.12498  37.650761 -122.12415  37.652908   \n",
       "\n",
       "       indzoning        category      area  area_updat   county  \n",
       "0  AIR-SE/AIR-OP          transp  3.833827    3.833827  Alameda  \n",
       "1         I-G-40          medium  0.459112    0.459112  Alameda  \n",
       "2           MU-R  MU-residential  0.758505    0.758505  Alameda  \n",
       "3             IG           light  6.327419    6.327419  Alameda  \n",
       "4              I          medium  3.935750    3.935750  Alameda  "
      ]
     },
     "execution_count": 17,
     "metadata": {},
     "output_type": "execute_result"
    }
   ],
   "source": [
    "zoning_data.head()"
   ]
  },
  {
   "cell_type": "code",
   "execution_count": 144,
   "metadata": {
    "scrolled": false
   },
   "outputs": [
    {
     "data": {
      "text/html": [
       "<div>\n",
       "<style scoped>\n",
       "    .dataframe tbody tr th:only-of-type {\n",
       "        vertical-align: middle;\n",
       "    }\n",
       "\n",
       "    .dataframe tbody tr th {\n",
       "        vertical-align: top;\n",
       "    }\n",
       "\n",
       "    .dataframe thead th {\n",
       "        text-align: right;\n",
       "    }\n",
       "</style>\n",
       "<table border=\"1\" class=\"dataframe\">\n",
       "  <thead>\n",
       "    <tr style=\"text-align: right;\">\n",
       "      <th></th>\n",
       "      <th>apn</th>\n",
       "      <th>dunsnumber</th>\n",
       "      <th>fid</th>\n",
       "      <th>state</th>\n",
       "      <th>fullname</th>\n",
       "      <th>tradename</th>\n",
       "      <th>zipcode</th>\n",
       "      <th>zip4</th>\n",
       "      <th>officer</th>\n",
       "      <th>title</th>\n",
       "      <th>...</th>\n",
       "      <th>industry</th>\n",
       "      <th>industrygroup</th>\n",
       "      <th>Unnamed: 36</th>\n",
       "      <th>saleshere</th>\n",
       "      <th>pubpriv</th>\n",
       "      <th>firstyear</th>\n",
       "      <th>lastyear</th>\n",
       "      <th>address_first</th>\n",
       "      <th>tractce</th>\n",
       "      <th>sizecat</th>\n",
       "    </tr>\n",
       "  </thead>\n",
       "  <tbody>\n",
       "    <tr>\n",
       "      <th>5</th>\n",
       "      <td>439-75-68</td>\n",
       "      <td>1433023</td>\n",
       "      <td>229438.0</td>\n",
       "      <td>CA</td>\n",
       "      <td>Industrial District (Defined in Section 1.1600)</td>\n",
       "      <td></td>\n",
       "      <td>94545</td>\n",
       "      <td>2745</td>\n",
       "      <td>JULIE SCHULTZ</td>\n",
       "      <td>MANAGER</td>\n",
       "      <td>...</td>\n",
       "      <td>Household antenna installation and service</td>\n",
       "      <td>Electrical Repair Shops</td>\n",
       "      <td>NaN</td>\n",
       "      <td>1446800</td>\n",
       "      <td>N</td>\n",
       "      <td>2000</td>\n",
       "      <td>2001</td>\n",
       "      <td>3462 DIABLO AVE</td>\n",
       "      <td>437101</td>\n",
       "      <td>2_20to49</td>\n",
       "    </tr>\n",
       "    <tr>\n",
       "      <th>6</th>\n",
       "      <td>475-174-38</td>\n",
       "      <td>1526594</td>\n",
       "      <td>258243.0</td>\n",
       "      <td>CA</td>\n",
       "      <td>Industrial District (Defined in Section 1.1600)</td>\n",
       "      <td></td>\n",
       "      <td>94544</td>\n",
       "      <td>7002</td>\n",
       "      <td>DON WIES</td>\n",
       "      <td>PRESIDENT</td>\n",
       "      <td>...</td>\n",
       "      <td>Office furniture, except wood</td>\n",
       "      <td>Office Furniture</td>\n",
       "      <td>NaN</td>\n",
       "      <td>6122500</td>\n",
       "      <td>N</td>\n",
       "      <td>1989</td>\n",
       "      <td>2002</td>\n",
       "      <td>30776 HUNTWOOD AVE</td>\n",
       "      <td>438203</td>\n",
       "      <td>3_50to99</td>\n",
       "    </tr>\n",
       "    <tr>\n",
       "      <th>7</th>\n",
       "      <td>463-45-43-2</td>\n",
       "      <td>1555288</td>\n",
       "      <td>333767.0</td>\n",
       "      <td>CA</td>\n",
       "      <td>Light Industrial</td>\n",
       "      <td></td>\n",
       "      <td>94587</td>\n",
       "      <td>1234</td>\n",
       "      <td>DEAN YAMAMURA</td>\n",
       "      <td>CHIEF EXECUTIVE OFFICER</td>\n",
       "      <td>...</td>\n",
       "      <td>Manufacturers' institute</td>\n",
       "      <td>Business Associations</td>\n",
       "      <td>NaN</td>\n",
       "      <td>100000</td>\n",
       "      <td>N</td>\n",
       "      <td>2002</td>\n",
       "      <td>2013</td>\n",
       "      <td>31 AHERN AVE</td>\n",
       "      <td>440333</td>\n",
       "      <td>01_LT5</td>\n",
       "    </tr>\n",
       "  </tbody>\n",
       "</table>\n",
       "<p>3 rows × 44 columns</p>\n",
       "</div>"
      ],
      "text/plain": [
       "           apn  dunsnumber       fid state  \\\n",
       "5    439-75-68     1433023  229438.0    CA   \n",
       "6   475-174-38     1526594  258243.0    CA   \n",
       "7  463-45-43-2     1555288  333767.0    CA   \n",
       "\n",
       "                                          fullname tradename  zipcode  zip4  \\\n",
       "5  Industrial District (Defined in Section 1.1600)              94545  2745   \n",
       "6  Industrial District (Defined in Section 1.1600)              94544  7002   \n",
       "7                                 Light Industrial              94587  1234   \n",
       "\n",
       "         officer                    title  ...  \\\n",
       "5  JULIE SCHULTZ                  MANAGER  ...   \n",
       "6       DON WIES                PRESIDENT  ...   \n",
       "7  DEAN YAMAMURA  CHIEF EXECUTIVE OFFICER  ...   \n",
       "\n",
       "                                     industry            industrygroup  \\\n",
       "5  Household antenna installation and service  Electrical Repair Shops   \n",
       "6               Office furniture, except wood         Office Furniture   \n",
       "7                    Manufacturers' institute    Business Associations   \n",
       "\n",
       "  Unnamed: 36 saleshere pubpriv firstyear lastyear       address_first  \\\n",
       "5         NaN   1446800       N      2000     2001     3462 DIABLO AVE   \n",
       "6         NaN   6122500       N      1989     2002  30776 HUNTWOOD AVE   \n",
       "7         NaN    100000       N      2002     2013        31 AHERN AVE   \n",
       "\n",
       "  tractce   sizecat  \n",
       "5  437101  2_20to49  \n",
       "6  438203  3_50to99  \n",
       "7  440333    01_LT5  \n",
       "\n",
       "[3 rows x 44 columns]"
      ]
     },
     "execution_count": 144,
     "metadata": {},
     "output_type": "execute_result"
    }
   ],
   "source": [
    "#iloc works based on integer positioning of row, column. Here we want row 5 to 8 and all columns they have.\n",
    "business_data.iloc[5:8, :]"
   ]
  },
  {
   "cell_type": "code",
   "execution_count": 189,
   "metadata": {
    "scrolled": false
   },
   "outputs": [
    {
     "data": {
      "text/html": [
       "<div>\n",
       "<style scoped>\n",
       "    .dataframe tbody tr th:only-of-type {\n",
       "        vertical-align: middle;\n",
       "    }\n",
       "\n",
       "    .dataframe tbody tr th {\n",
       "        vertical-align: top;\n",
       "    }\n",
       "\n",
       "    .dataframe thead th {\n",
       "        text-align: right;\n",
       "    }\n",
       "</style>\n",
       "<table border=\"1\" class=\"dataframe\">\n",
       "  <thead>\n",
       "    <tr style=\"text-align: right;\">\n",
       "      <th></th>\n",
       "      <th>APN</th>\n",
       "      <th>APN2</th>\n",
       "      <th>SIT_FULL_S</th>\n",
       "      <th>SIT_CITY</th>\n",
       "      <th>SIT_ZIP</th>\n",
       "      <th>Xcoord</th>\n",
       "      <th>Ycoord</th>\n",
       "      <th>minX</th>\n",
       "      <th>minY</th>\n",
       "      <th>maxX</th>\n",
       "      <th>maxY</th>\n",
       "      <th>INDZoning</th>\n",
       "      <th>geometry</th>\n",
       "    </tr>\n",
       "  </thead>\n",
       "  <tbody>\n",
       "    <tr>\n",
       "      <th>0</th>\n",
       "      <td>48-6298-3-2</td>\n",
       "      <td>048 629800302</td>\n",
       "      <td>None</td>\n",
       "      <td>Oakland</td>\n",
       "      <td>94605</td>\n",
       "      <td>-122.124041</td>\n",
       "      <td>37.755725</td>\n",
       "      <td>-122.124247</td>\n",
       "      <td>37.755582</td>\n",
       "      <td>-122.123838</td>\n",
       "      <td>37.755861</td>\n",
       "      <td>None</td>\n",
       "      <td>POLYGON ((-122.12384 37.75571, -122.12417 37.7...</td>\n",
       "    </tr>\n",
       "    <tr>\n",
       "      <th>1</th>\n",
       "      <td>48-6313-23</td>\n",
       "      <td>048 631302300</td>\n",
       "      <td>4728 SCOTIA AVE</td>\n",
       "      <td>Oakland</td>\n",
       "      <td>94605</td>\n",
       "      <td>-122.125207</td>\n",
       "      <td>37.754515</td>\n",
       "      <td>-122.125372</td>\n",
       "      <td>37.754266</td>\n",
       "      <td>-122.125042</td>\n",
       "      <td>37.754769</td>\n",
       "      <td>None</td>\n",
       "      <td>POLYGON ((-122.12504 37.75429, -122.12520 37.7...</td>\n",
       "    </tr>\n",
       "    <tr>\n",
       "      <th>2</th>\n",
       "      <td>48-6313-87</td>\n",
       "      <td>048 631308700</td>\n",
       "      <td>10834 GOLF LINKS RD</td>\n",
       "      <td>Oakland</td>\n",
       "      <td>94605</td>\n",
       "      <td>-122.126525</td>\n",
       "      <td>37.753630</td>\n",
       "      <td>-122.126726</td>\n",
       "      <td>37.753496</td>\n",
       "      <td>-122.126325</td>\n",
       "      <td>37.753764</td>\n",
       "      <td>None</td>\n",
       "      <td>POLYGON ((-122.12635 37.75366, -122.12632 37.7...</td>\n",
       "    </tr>\n",
       "  </tbody>\n",
       "</table>\n",
       "</div>"
      ],
      "text/plain": [
       "           APN           APN2           SIT_FULL_S SIT_CITY SIT_ZIP  \\\n",
       "0  48-6298-3-2  048 629800302                 None  Oakland   94605   \n",
       "1   48-6313-23  048 631302300      4728 SCOTIA AVE  Oakland   94605   \n",
       "2   48-6313-87  048 631308700  10834 GOLF LINKS RD  Oakland   94605   \n",
       "\n",
       "       Xcoord     Ycoord        minX       minY        maxX       maxY  \\\n",
       "0 -122.124041  37.755725 -122.124247  37.755582 -122.123838  37.755861   \n",
       "1 -122.125207  37.754515 -122.125372  37.754266 -122.125042  37.754769   \n",
       "2 -122.126525  37.753630 -122.126726  37.753496 -122.126325  37.753764   \n",
       "\n",
       "  INDZoning                                           geometry  \n",
       "0      None  POLYGON ((-122.12384 37.75571, -122.12417 37.7...  \n",
       "1      None  POLYGON ((-122.12504 37.75429, -122.12520 37.7...  \n",
       "2      None  POLYGON ((-122.12635 37.75366, -122.12632 37.7...  "
      ]
     },
     "execution_count": 189,
     "metadata": {},
     "output_type": "execute_result"
    }
   ],
   "source": [
    "#loc select data based of labels. Here we used rows of label 0 to 2 and columns of label 'APN' to 'geometry'\n",
    "alameda_shp.loc[:2, 'APN':'geometry']"
   ]
  },
  {
   "cell_type": "markdown",
   "metadata": {},
   "source": [
    "For a sanity check on a dataset's general statistics to observe any outliners, you can use `describe()`. Here, we check the business data, some of the columns might not make sense to have their general stats checked like zipcode or fid."
   ]
  },
  {
   "cell_type": "code",
   "execution_count": 146,
   "metadata": {
    "scrolled": true
   },
   "outputs": [
    {
     "data": {
      "text/html": [
       "<div>\n",
       "<style scoped>\n",
       "    .dataframe tbody tr th:only-of-type {\n",
       "        vertical-align: middle;\n",
       "    }\n",
       "\n",
       "    .dataframe tbody tr th {\n",
       "        vertical-align: top;\n",
       "    }\n",
       "\n",
       "    .dataframe thead th {\n",
       "        text-align: right;\n",
       "    }\n",
       "</style>\n",
       "<table border=\"1\" class=\"dataframe\">\n",
       "  <thead>\n",
       "    <tr style=\"text-align: right;\">\n",
       "      <th></th>\n",
       "      <th>dunsnumber</th>\n",
       "      <th>fid</th>\n",
       "      <th>zipcode</th>\n",
       "      <th>zip4</th>\n",
       "      <th>citycode</th>\n",
       "      <th>naics11</th>\n",
       "      <th>Unnamed: 36</th>\n",
       "      <th>firstyear</th>\n",
       "      <th>lastyear</th>\n",
       "      <th>tractce</th>\n",
       "    </tr>\n",
       "  </thead>\n",
       "  <tbody>\n",
       "    <tr>\n",
       "      <th>count</th>\n",
       "      <td>2.735300e+04</td>\n",
       "      <td>23103.000000</td>\n",
       "      <td>27353.000000</td>\n",
       "      <td>27353.000000</td>\n",
       "      <td>27353.000000</td>\n",
       "      <td>11493.000000</td>\n",
       "      <td>0.0</td>\n",
       "      <td>27353.000000</td>\n",
       "      <td>27353.000000</td>\n",
       "      <td>27353.000000</td>\n",
       "    </tr>\n",
       "    <tr>\n",
       "      <th>mean</th>\n",
       "      <td>3.320022e+08</td>\n",
       "      <td>206667.700602</td>\n",
       "      <td>94578.106570</td>\n",
       "      <td>3727.512631</td>\n",
       "      <td>64226.519980</td>\n",
       "      <td>492227.688071</td>\n",
       "      <td>NaN</td>\n",
       "      <td>1999.781852</td>\n",
       "      <td>2007.557562</td>\n",
       "      <td>448427.953789</td>\n",
       "    </tr>\n",
       "    <tr>\n",
       "      <th>std</th>\n",
       "      <td>3.549055e+08</td>\n",
       "      <td>114955.714456</td>\n",
       "      <td>50.290204</td>\n",
       "      <td>2221.027606</td>\n",
       "      <td>2131.447663</td>\n",
       "      <td>163005.047658</td>\n",
       "      <td>NaN</td>\n",
       "      <td>7.873964</td>\n",
       "      <td>6.619593</td>\n",
       "      <td>101603.551115</td>\n",
       "    </tr>\n",
       "    <tr>\n",
       "      <th>min</th>\n",
       "      <td>1.043780e+06</td>\n",
       "      <td>295.000000</td>\n",
       "      <td>94501.000000</td>\n",
       "      <td>0.000000</td>\n",
       "      <td>60161.000000</td>\n",
       "      <td>221.000000</td>\n",
       "      <td>NaN</td>\n",
       "      <td>1989.000000</td>\n",
       "      <td>1990.000000</td>\n",
       "      <td>400700.000000</td>\n",
       "    </tr>\n",
       "    <tr>\n",
       "      <th>25%</th>\n",
       "      <td>4.576310e+07</td>\n",
       "      <td>108094.500000</td>\n",
       "      <td>94544.000000</td>\n",
       "      <td>1814.000000</td>\n",
       "      <td>63077.000000</td>\n",
       "      <td>423430.000000</td>\n",
       "      <td>NaN</td>\n",
       "      <td>1992.000000</td>\n",
       "      <td>2003.000000</td>\n",
       "      <td>422000.000000</td>\n",
       "    </tr>\n",
       "    <tr>\n",
       "      <th>50%</th>\n",
       "      <td>1.366674e+08</td>\n",
       "      <td>187553.000000</td>\n",
       "      <td>94568.000000</td>\n",
       "      <td>3170.000000</td>\n",
       "      <td>63545.000000</td>\n",
       "      <td>488999.000000</td>\n",
       "      <td>NaN</td>\n",
       "      <td>2001.000000</td>\n",
       "      <td>2010.000000</td>\n",
       "      <td>437101.000000</td>\n",
       "    </tr>\n",
       "    <tr>\n",
       "      <th>75%</th>\n",
       "      <td>7.866707e+08</td>\n",
       "      <td>329699.000000</td>\n",
       "      <td>94607.000000</td>\n",
       "      <td>5607.000000</td>\n",
       "      <td>65687.000000</td>\n",
       "      <td>561312.000000</td>\n",
       "      <td>NaN</td>\n",
       "      <td>2007.000000</td>\n",
       "      <td>2013.000000</td>\n",
       "      <td>441503.000000</td>\n",
       "    </tr>\n",
       "    <tr>\n",
       "      <th>max</th>\n",
       "      <td>9.699978e+08</td>\n",
       "      <td>395776.000000</td>\n",
       "      <td>94710.000000</td>\n",
       "      <td>9998.000000</td>\n",
       "      <td>68471.000000</td>\n",
       "      <td>999999.000000</td>\n",
       "      <td>NaN</td>\n",
       "      <td>2012.000000</td>\n",
       "      <td>2013.000000</td>\n",
       "      <td>983200.000000</td>\n",
       "    </tr>\n",
       "  </tbody>\n",
       "</table>\n",
       "</div>"
      ],
      "text/plain": [
       "         dunsnumber            fid       zipcode          zip4      citycode  \\\n",
       "count  2.735300e+04   23103.000000  27353.000000  27353.000000  27353.000000   \n",
       "mean   3.320022e+08  206667.700602  94578.106570   3727.512631  64226.519980   \n",
       "std    3.549055e+08  114955.714456     50.290204   2221.027606   2131.447663   \n",
       "min    1.043780e+06     295.000000  94501.000000      0.000000  60161.000000   \n",
       "25%    4.576310e+07  108094.500000  94544.000000   1814.000000  63077.000000   \n",
       "50%    1.366674e+08  187553.000000  94568.000000   3170.000000  63545.000000   \n",
       "75%    7.866707e+08  329699.000000  94607.000000   5607.000000  65687.000000   \n",
       "max    9.699978e+08  395776.000000  94710.000000   9998.000000  68471.000000   \n",
       "\n",
       "             naics11  Unnamed: 36     firstyear      lastyear        tractce  \n",
       "count   11493.000000          0.0  27353.000000  27353.000000   27353.000000  \n",
       "mean   492227.688071          NaN   1999.781852   2007.557562  448427.953789  \n",
       "std    163005.047658          NaN      7.873964      6.619593  101603.551115  \n",
       "min       221.000000          NaN   1989.000000   1990.000000  400700.000000  \n",
       "25%    423430.000000          NaN   1992.000000   2003.000000  422000.000000  \n",
       "50%    488999.000000          NaN   2001.000000   2010.000000  437101.000000  \n",
       "75%    561312.000000          NaN   2007.000000   2013.000000  441503.000000  \n",
       "max    999999.000000          NaN   2012.000000   2013.000000  983200.000000  "
      ]
     },
     "execution_count": 146,
     "metadata": {},
     "output_type": "execute_result"
    }
   ],
   "source": [
    "business_data.describe()"
   ]
  },
  {
   "cell_type": "markdown",
   "metadata": {},
   "source": [
    "Before we join these 3 datasets, let's look at the different types of join."
   ]
  },
  {
   "cell_type": "code",
   "execution_count": 15,
   "metadata": {
    "scrolled": false
   },
   "outputs": [
    {
     "data": {
      "image/jpeg": "[encoded data removed]",
      "text/plain": [
       "<IPython.core.display.Image object>"
      ]
     },
     "execution_count": 15,
     "metadata": {},
     "output_type": "execute_result"
    }
   ],
   "source": [
    "Image(filename='files/join-types.jpg')"
   ]
  },
  {
   "cell_type": "markdown",
   "metadata": {},
   "source": [
    "| Option        | Behavior      |\n",
    "| ------------- |:-------------:|\n",
    "| `inner` | Use only the key combination observed in both sides |\n",
    "| `left`  | Use all key combinations found in the left table    | \n",
    "| `right` | Use all key combinations found in the right table   |  \n",
    "| `outer` | Use all key combinations observed in both tables together |\n"
   ]
  },
  {
   "cell_type": "markdown",
   "metadata": {},
   "source": [
    "### Merge"
   ]
  },
  {
   "cell_type": "markdown",
   "metadata": {},
   "source": [
    "*Merge* connects rows in DataFrames based on one or more keys. This is similar to SQL and other relational databases *join* operations. <br>\n",
    "Here is an example of a *one-to-one* join where each label appears once in each table. "
   ]
  },
  {
   "cell_type": "code",
   "execution_count": 44,
   "metadata": {},
   "outputs": [
    {
     "data": {
      "text/html": [
       "<div>\n",
       "<style scoped>\n",
       "    .dataframe tbody tr th:only-of-type {\n",
       "        vertical-align: middle;\n",
       "    }\n",
       "\n",
       "    .dataframe tbody tr th {\n",
       "        vertical-align: top;\n",
       "    }\n",
       "\n",
       "    .dataframe thead th {\n",
       "        text-align: right;\n",
       "    }\n",
       "</style>\n",
       "<table border=\"1\" class=\"dataframe\">\n",
       "  <thead>\n",
       "    <tr style=\"text-align: right;\">\n",
       "      <th></th>\n",
       "      <th>key</th>\n",
       "      <th>value1</th>\n",
       "    </tr>\n",
       "  </thead>\n",
       "  <tbody>\n",
       "    <tr>\n",
       "      <th>0</th>\n",
       "      <td>a</td>\n",
       "      <td>0</td>\n",
       "    </tr>\n",
       "    <tr>\n",
       "      <th>1</th>\n",
       "      <td>b</td>\n",
       "      <td>1</td>\n",
       "    </tr>\n",
       "    <tr>\n",
       "      <th>2</th>\n",
       "      <td>c</td>\n",
       "      <td>2</td>\n",
       "    </tr>\n",
       "    <tr>\n",
       "      <th>3</th>\n",
       "      <td>d</td>\n",
       "      <td>3</td>\n",
       "    </tr>\n",
       "    <tr>\n",
       "      <th>4</th>\n",
       "      <td>f</td>\n",
       "      <td>4</td>\n",
       "    </tr>\n",
       "  </tbody>\n",
       "</table>\n",
       "</div>"
      ],
      "text/plain": [
       "  key  value1\n",
       "0   a       0\n",
       "1   b       1\n",
       "2   c       2\n",
       "3   d       3\n",
       "4   f       4"
      ]
     },
     "execution_count": 44,
     "metadata": {},
     "output_type": "execute_result"
    }
   ],
   "source": [
    "df1 = pd.DataFrame({'key': ['a', 'b', 'c', 'd', 'f'],\n",
    "                   'value1': range(5)})\n",
    "df2 = pd.DataFrame({'key': ['a', 'b', 'f'],\n",
    "                   'value2': range(3)})\n",
    "df1"
   ]
  },
  {
   "cell_type": "code",
   "execution_count": 22,
   "metadata": {
    "scrolled": true
   },
   "outputs": [
    {
     "data": {
      "text/html": [
       "<div>\n",
       "<style scoped>\n",
       "    .dataframe tbody tr th:only-of-type {\n",
       "        vertical-align: middle;\n",
       "    }\n",
       "\n",
       "    .dataframe tbody tr th {\n",
       "        vertical-align: top;\n",
       "    }\n",
       "\n",
       "    .dataframe thead th {\n",
       "        text-align: right;\n",
       "    }\n",
       "</style>\n",
       "<table border=\"1\" class=\"dataframe\">\n",
       "  <thead>\n",
       "    <tr style=\"text-align: right;\">\n",
       "      <th></th>\n",
       "      <th>key</th>\n",
       "      <th>value2</th>\n",
       "    </tr>\n",
       "  </thead>\n",
       "  <tbody>\n",
       "    <tr>\n",
       "      <th>0</th>\n",
       "      <td>a</td>\n",
       "      <td>0</td>\n",
       "    </tr>\n",
       "    <tr>\n",
       "      <th>1</th>\n",
       "      <td>b</td>\n",
       "      <td>1</td>\n",
       "    </tr>\n",
       "    <tr>\n",
       "      <th>2</th>\n",
       "      <td>f</td>\n",
       "      <td>2</td>\n",
       "    </tr>\n",
       "  </tbody>\n",
       "</table>\n",
       "</div>"
      ],
      "text/plain": [
       "  key  value2\n",
       "0   a       0\n",
       "1   b       1\n",
       "2   f       2"
      ]
     },
     "execution_count": 22,
     "metadata": {},
     "output_type": "execute_result"
    }
   ],
   "source": [
    "#This is a comment, here is dataframe 2 that we will use to merge with dataframe 1\n",
    "df2"
   ]
  },
  {
   "cell_type": "markdown",
   "metadata": {},
   "source": [
    "You can check for the data types of each column where column of mixed types are stored as 'object'. <br>\n",
    "There are several data types: *float, integer, string, boolean, datetime*, etc. <br>\n",
    "You can double check if the key is unique before joining to prevent incorrect join operations.\n"
   ]
  },
  {
   "cell_type": "code",
   "execution_count": 23,
   "metadata": {
    "scrolled": true
   },
   "outputs": [
    {
     "data": {
      "text/plain": [
       "key       object\n",
       "value1     int64\n",
       "dtype: object"
      ]
     },
     "execution_count": 23,
     "metadata": {},
     "output_type": "execute_result"
    }
   ],
   "source": [
    "#Here, we see that key is a type of object and value is a type of integer\n",
    "df1.dtypes"
   ]
  },
  {
   "cell_type": "code",
   "execution_count": 24,
   "metadata": {},
   "outputs": [
    {
     "data": {
      "text/plain": [
       "True"
      ]
     },
     "execution_count": 24,
     "metadata": {},
     "output_type": "execute_result"
    }
   ],
   "source": [
    "#here, the key of df1 is a unique key which is what we want\n",
    "df1['key'].is_unique"
   ]
  },
  {
   "cell_type": "markdown",
   "metadata": {},
   "source": [
    "Explicitly specify the overlapping column name as key is a good practice. If not specified, merge will find the column that's overlapped to merge on. <br>\n",
    "You can also use ? to check what the operation does and is arguments as well as examples."
   ]
  },
  {
   "cell_type": "code",
   "execution_count": 25,
   "metadata": {},
   "outputs": [],
   "source": [
    "?pd.merge"
   ]
  },
  {
   "cell_type": "code",
   "execution_count": 26,
   "metadata": {
    "scrolled": true
   },
   "outputs": [
    {
     "data": {
      "text/html": [
       "<div>\n",
       "<style scoped>\n",
       "    .dataframe tbody tr th:only-of-type {\n",
       "        vertical-align: middle;\n",
       "    }\n",
       "\n",
       "    .dataframe tbody tr th {\n",
       "        vertical-align: top;\n",
       "    }\n",
       "\n",
       "    .dataframe thead th {\n",
       "        text-align: right;\n",
       "    }\n",
       "</style>\n",
       "<table border=\"1\" class=\"dataframe\">\n",
       "  <thead>\n",
       "    <tr style=\"text-align: right;\">\n",
       "      <th></th>\n",
       "      <th>key</th>\n",
       "      <th>value1</th>\n",
       "      <th>value2</th>\n",
       "    </tr>\n",
       "  </thead>\n",
       "  <tbody>\n",
       "    <tr>\n",
       "      <th>0</th>\n",
       "      <td>a</td>\n",
       "      <td>0</td>\n",
       "      <td>0</td>\n",
       "    </tr>\n",
       "    <tr>\n",
       "      <th>1</th>\n",
       "      <td>b</td>\n",
       "      <td>1</td>\n",
       "      <td>1</td>\n",
       "    </tr>\n",
       "    <tr>\n",
       "      <th>2</th>\n",
       "      <td>f</td>\n",
       "      <td>4</td>\n",
       "      <td>2</td>\n",
       "    </tr>\n",
       "  </tbody>\n",
       "</table>\n",
       "</div>"
      ],
      "text/plain": [
       "  key  value1  value2\n",
       "0   a       0       0\n",
       "1   b       1       1\n",
       "2   f       4       2"
      ]
     },
     "execution_count": 26,
     "metadata": {},
     "output_type": "execute_result"
    }
   ],
   "source": [
    "#This will give a resulting dataframe of only keys that matched between 2 dataframes\n",
    "mergedf = pd.merge(df1, df2, on='key')\n",
    "mergedf"
   ]
  },
  {
   "cell_type": "markdown",
   "metadata": {},
   "source": [
    "By default, merge does an `inner` join; the keys in the result are the intersection or the common key combinations found in both tables. Lets' try a `left`, `right` and `outer` join. <br>\n",
    "\n",
    "| Option        | Behavior      |\n",
    "| ------------- |:-------------:|\n",
    "| `left`  | will merge using all key combinations found in left table (ex: df1)    | \n",
    "| `right` | join will merge using all key combinations found in right table (ex: df2)   |  \n",
    "| `outer` | merge using all key combinations observed in both tables together |\n"
   ]
  },
  {
   "cell_type": "code",
   "execution_count": 27,
   "metadata": {
    "scrolled": true
   },
   "outputs": [
    {
     "data": {
      "text/html": [
       "<div>\n",
       "<style scoped>\n",
       "    .dataframe tbody tr th:only-of-type {\n",
       "        vertical-align: middle;\n",
       "    }\n",
       "\n",
       "    .dataframe tbody tr th {\n",
       "        vertical-align: top;\n",
       "    }\n",
       "\n",
       "    .dataframe thead th {\n",
       "        text-align: right;\n",
       "    }\n",
       "</style>\n",
       "<table border=\"1\" class=\"dataframe\">\n",
       "  <thead>\n",
       "    <tr style=\"text-align: right;\">\n",
       "      <th></th>\n",
       "      <th>key</th>\n",
       "      <th>value1</th>\n",
       "      <th>value2</th>\n",
       "    </tr>\n",
       "  </thead>\n",
       "  <tbody>\n",
       "    <tr>\n",
       "      <th>0</th>\n",
       "      <td>a</td>\n",
       "      <td>0</td>\n",
       "      <td>0.0</td>\n",
       "    </tr>\n",
       "    <tr>\n",
       "      <th>1</th>\n",
       "      <td>b</td>\n",
       "      <td>1</td>\n",
       "      <td>1.0</td>\n",
       "    </tr>\n",
       "    <tr>\n",
       "      <th>2</th>\n",
       "      <td>c</td>\n",
       "      <td>2</td>\n",
       "      <td>NaN</td>\n",
       "    </tr>\n",
       "    <tr>\n",
       "      <th>3</th>\n",
       "      <td>d</td>\n",
       "      <td>3</td>\n",
       "      <td>NaN</td>\n",
       "    </tr>\n",
       "    <tr>\n",
       "      <th>4</th>\n",
       "      <td>f</td>\n",
       "      <td>4</td>\n",
       "      <td>2.0</td>\n",
       "    </tr>\n",
       "  </tbody>\n",
       "</table>\n",
       "</div>"
      ],
      "text/plain": [
       "  key  value1  value2\n",
       "0   a       0     0.0\n",
       "1   b       1     1.0\n",
       "2   c       2     NaN\n",
       "3   d       3     NaN\n",
       "4   f       4     2.0"
      ]
     },
     "execution_count": 27,
     "metadata": {},
     "output_type": "execute_result"
    }
   ],
   "source": [
    "merge_left = pd.merge(df1, df2, how='left')\n",
    "merge_left"
   ]
  },
  {
   "cell_type": "code",
   "execution_count": 28,
   "metadata": {
    "scrolled": true
   },
   "outputs": [
    {
     "data": {
      "text/html": [
       "<div>\n",
       "<style scoped>\n",
       "    .dataframe tbody tr th:only-of-type {\n",
       "        vertical-align: middle;\n",
       "    }\n",
       "\n",
       "    .dataframe tbody tr th {\n",
       "        vertical-align: top;\n",
       "    }\n",
       "\n",
       "    .dataframe thead th {\n",
       "        text-align: right;\n",
       "    }\n",
       "</style>\n",
       "<table border=\"1\" class=\"dataframe\">\n",
       "  <thead>\n",
       "    <tr style=\"text-align: right;\">\n",
       "      <th></th>\n",
       "      <th>key</th>\n",
       "      <th>value1</th>\n",
       "      <th>value2</th>\n",
       "    </tr>\n",
       "  </thead>\n",
       "  <tbody>\n",
       "    <tr>\n",
       "      <th>0</th>\n",
       "      <td>a</td>\n",
       "      <td>0</td>\n",
       "      <td>0</td>\n",
       "    </tr>\n",
       "    <tr>\n",
       "      <th>1</th>\n",
       "      <td>b</td>\n",
       "      <td>1</td>\n",
       "      <td>1</td>\n",
       "    </tr>\n",
       "    <tr>\n",
       "      <th>2</th>\n",
       "      <td>f</td>\n",
       "      <td>4</td>\n",
       "      <td>2</td>\n",
       "    </tr>\n",
       "  </tbody>\n",
       "</table>\n",
       "</div>"
      ],
      "text/plain": [
       "  key  value1  value2\n",
       "0   a       0       0\n",
       "1   b       1       1\n",
       "2   f       4       2"
      ]
     },
     "execution_count": 28,
     "metadata": {},
     "output_type": "execute_result"
    }
   ],
   "source": [
    "merge_right = pd.merge(df1, df2, how='right')\n",
    "merge_right"
   ]
  },
  {
   "cell_type": "code",
   "execution_count": 29,
   "metadata": {
    "scrolled": true
   },
   "outputs": [
    {
     "data": {
      "text/html": [
       "<div>\n",
       "<style scoped>\n",
       "    .dataframe tbody tr th:only-of-type {\n",
       "        vertical-align: middle;\n",
       "    }\n",
       "\n",
       "    .dataframe tbody tr th {\n",
       "        vertical-align: top;\n",
       "    }\n",
       "\n",
       "    .dataframe thead th {\n",
       "        text-align: right;\n",
       "    }\n",
       "</style>\n",
       "<table border=\"1\" class=\"dataframe\">\n",
       "  <thead>\n",
       "    <tr style=\"text-align: right;\">\n",
       "      <th></th>\n",
       "      <th>key</th>\n",
       "      <th>value1</th>\n",
       "      <th>value2</th>\n",
       "    </tr>\n",
       "  </thead>\n",
       "  <tbody>\n",
       "    <tr>\n",
       "      <th>0</th>\n",
       "      <td>a</td>\n",
       "      <td>0</td>\n",
       "      <td>0.0</td>\n",
       "    </tr>\n",
       "    <tr>\n",
       "      <th>1</th>\n",
       "      <td>b</td>\n",
       "      <td>1</td>\n",
       "      <td>1.0</td>\n",
       "    </tr>\n",
       "    <tr>\n",
       "      <th>2</th>\n",
       "      <td>c</td>\n",
       "      <td>2</td>\n",
       "      <td>NaN</td>\n",
       "    </tr>\n",
       "    <tr>\n",
       "      <th>3</th>\n",
       "      <td>d</td>\n",
       "      <td>3</td>\n",
       "      <td>NaN</td>\n",
       "    </tr>\n",
       "    <tr>\n",
       "      <th>4</th>\n",
       "      <td>f</td>\n",
       "      <td>4</td>\n",
       "      <td>2.0</td>\n",
       "    </tr>\n",
       "  </tbody>\n",
       "</table>\n",
       "</div>"
      ],
      "text/plain": [
       "  key  value1  value2\n",
       "0   a       0     0.0\n",
       "1   b       1     1.0\n",
       "2   c       2     NaN\n",
       "3   d       3     NaN\n",
       "4   f       4     2.0"
      ]
     },
     "execution_count": 29,
     "metadata": {},
     "output_type": "execute_result"
    }
   ],
   "source": [
    "merge_outer = pd.merge(df1, df2, how='outer')\n",
    "merge_outer"
   ]
  },
  {
   "cell_type": "markdown",
   "metadata": {},
   "source": [
    "*Many-to-one*: What if we have the first dataframe with many multiple rows labelled 'a' and 'b', but the second dataframe with only one row for each value in the key column?"
   ]
  },
  {
   "cell_type": "code",
   "execution_count": 30,
   "metadata": {},
   "outputs": [
    {
     "data": {
      "text/html": [
       "<div>\n",
       "<style scoped>\n",
       "    .dataframe tbody tr th:only-of-type {\n",
       "        vertical-align: middle;\n",
       "    }\n",
       "\n",
       "    .dataframe tbody tr th {\n",
       "        vertical-align: top;\n",
       "    }\n",
       "\n",
       "    .dataframe thead th {\n",
       "        text-align: right;\n",
       "    }\n",
       "</style>\n",
       "<table border=\"1\" class=\"dataframe\">\n",
       "  <thead>\n",
       "    <tr style=\"text-align: right;\">\n",
       "      <th></th>\n",
       "      <th>key</th>\n",
       "      <th>value1</th>\n",
       "    </tr>\n",
       "  </thead>\n",
       "  <tbody>\n",
       "    <tr>\n",
       "      <th>0</th>\n",
       "      <td>b</td>\n",
       "      <td>0</td>\n",
       "    </tr>\n",
       "    <tr>\n",
       "      <th>1</th>\n",
       "      <td>b</td>\n",
       "      <td>1</td>\n",
       "    </tr>\n",
       "    <tr>\n",
       "      <th>2</th>\n",
       "      <td>a</td>\n",
       "      <td>2</td>\n",
       "    </tr>\n",
       "    <tr>\n",
       "      <th>3</th>\n",
       "      <td>c</td>\n",
       "      <td>3</td>\n",
       "    </tr>\n",
       "    <tr>\n",
       "      <th>4</th>\n",
       "      <td>a</td>\n",
       "      <td>4</td>\n",
       "    </tr>\n",
       "    <tr>\n",
       "      <th>5</th>\n",
       "      <td>a</td>\n",
       "      <td>5</td>\n",
       "    </tr>\n",
       "    <tr>\n",
       "      <th>6</th>\n",
       "      <td>b</td>\n",
       "      <td>6</td>\n",
       "    </tr>\n",
       "  </tbody>\n",
       "</table>\n",
       "</div>"
      ],
      "text/plain": [
       "  key  value1\n",
       "0   b       0\n",
       "1   b       1\n",
       "2   a       2\n",
       "3   c       3\n",
       "4   a       4\n",
       "5   a       5\n",
       "6   b       6"
      ]
     },
     "execution_count": 30,
     "metadata": {},
     "output_type": "execute_result"
    }
   ],
   "source": [
    "df1_many_to_one = pd.DataFrame({'key': ['b', 'b', 'a', 'c', 'a', 'a', 'b'],\n",
    "                   'value1': range(7)})\n",
    "df2_many_to_one = pd.DataFrame({'key': ['a', 'b', 'd'],\n",
    "                   'value2': range(3)})\n",
    "df1_many_to_one"
   ]
  },
  {
   "cell_type": "code",
   "execution_count": 25,
   "metadata": {},
   "outputs": [
    {
     "data": {
      "text/html": [
       "<div>\n",
       "<style scoped>\n",
       "    .dataframe tbody tr th:only-of-type {\n",
       "        vertical-align: middle;\n",
       "    }\n",
       "\n",
       "    .dataframe tbody tr th {\n",
       "        vertical-align: top;\n",
       "    }\n",
       "\n",
       "    .dataframe thead th {\n",
       "        text-align: right;\n",
       "    }\n",
       "</style>\n",
       "<table border=\"1\" class=\"dataframe\">\n",
       "  <thead>\n",
       "    <tr style=\"text-align: right;\">\n",
       "      <th></th>\n",
       "      <th>key</th>\n",
       "      <th>value2</th>\n",
       "    </tr>\n",
       "  </thead>\n",
       "  <tbody>\n",
       "    <tr>\n",
       "      <th>0</th>\n",
       "      <td>a</td>\n",
       "      <td>0</td>\n",
       "    </tr>\n",
       "    <tr>\n",
       "      <th>1</th>\n",
       "      <td>b</td>\n",
       "      <td>1</td>\n",
       "    </tr>\n",
       "    <tr>\n",
       "      <th>2</th>\n",
       "      <td>d</td>\n",
       "      <td>2</td>\n",
       "    </tr>\n",
       "  </tbody>\n",
       "</table>\n",
       "</div>"
      ],
      "text/plain": [
       "  key  value2\n",
       "0   a       0\n",
       "1   b       1\n",
       "2   d       2"
      ]
     },
     "execution_count": 25,
     "metadata": {},
     "output_type": "execute_result"
    }
   ],
   "source": [
    "df2_many_to_one"
   ]
  },
  {
   "cell_type": "code",
   "execution_count": 35,
   "metadata": {
    "scrolled": true
   },
   "outputs": [
    {
     "data": {
      "text/html": [
       "<div>\n",
       "<style scoped>\n",
       "    .dataframe tbody tr th:only-of-type {\n",
       "        vertical-align: middle;\n",
       "    }\n",
       "\n",
       "    .dataframe tbody tr th {\n",
       "        vertical-align: top;\n",
       "    }\n",
       "\n",
       "    .dataframe thead th {\n",
       "        text-align: right;\n",
       "    }\n",
       "</style>\n",
       "<table border=\"1\" class=\"dataframe\">\n",
       "  <thead>\n",
       "    <tr style=\"text-align: right;\">\n",
       "      <th></th>\n",
       "      <th>key</th>\n",
       "      <th>value1</th>\n",
       "      <th>value2</th>\n",
       "    </tr>\n",
       "  </thead>\n",
       "  <tbody>\n",
       "    <tr>\n",
       "      <th>0</th>\n",
       "      <td>b</td>\n",
       "      <td>0</td>\n",
       "      <td>1</td>\n",
       "    </tr>\n",
       "    <tr>\n",
       "      <th>1</th>\n",
       "      <td>b</td>\n",
       "      <td>1</td>\n",
       "      <td>1</td>\n",
       "    </tr>\n",
       "    <tr>\n",
       "      <th>2</th>\n",
       "      <td>b</td>\n",
       "      <td>6</td>\n",
       "      <td>1</td>\n",
       "    </tr>\n",
       "    <tr>\n",
       "      <th>3</th>\n",
       "      <td>a</td>\n",
       "      <td>2</td>\n",
       "      <td>0</td>\n",
       "    </tr>\n",
       "    <tr>\n",
       "      <th>4</th>\n",
       "      <td>a</td>\n",
       "      <td>4</td>\n",
       "      <td>0</td>\n",
       "    </tr>\n",
       "    <tr>\n",
       "      <th>5</th>\n",
       "      <td>a</td>\n",
       "      <td>5</td>\n",
       "      <td>0</td>\n",
       "    </tr>\n",
       "  </tbody>\n",
       "</table>\n",
       "</div>"
      ],
      "text/plain": [
       "  key  value1  value2\n",
       "0   b       0       1\n",
       "1   b       1       1\n",
       "2   b       6       1\n",
       "3   a       2       0\n",
       "4   a       4       0\n",
       "5   a       5       0"
      ]
     },
     "execution_count": 35,
     "metadata": {},
     "output_type": "execute_result"
    }
   ],
   "source": [
    "df3_many_to_one = pd.merge(df1_many_to_one, df2_many_to_one, on='key')\n",
    "df3_many_to_one"
   ]
  },
  {
   "cell_type": "markdown",
   "metadata": {},
   "source": [
    "Here we can now join the 3 datasets based on one uniform apn. We will do a many-to-one, inner join as we have done above. Again, by default, merge will do an inner join based on a overlapping key. However, before we merge these large datasets, we should double check if our key is unique."
   ]
  },
  {
   "cell_type": "code",
   "execution_count": 53,
   "metadata": {},
   "outputs": [
    {
     "data": {
      "text/plain": [
       "False"
      ]
     },
     "execution_count": 53,
     "metadata": {},
     "output_type": "execute_result"
    }
   ],
   "source": [
    "tax_data['apn'].is_unique"
   ]
  },
  {
   "cell_type": "markdown",
   "metadata": {},
   "source": [
    "The APN number column has overlapping apns, we cannot merge non-unique keys or the the resulting dataframe would be a many-to-one merge, resulting in a huge, incomprehensible dataframe that crashes the kernel. Let's check the *dunsnumber* to see if it is unique."
   ]
  },
  {
   "cell_type": "code",
   "execution_count": 56,
   "metadata": {},
   "outputs": [
    {
     "data": {
      "text/plain": [
       "True"
      ]
     },
     "execution_count": 56,
     "metadata": {},
     "output_type": "execute_result"
    }
   ],
   "source": [
    "tax_data['dunsnumber'].is_unique"
   ]
  },
  {
   "cell_type": "code",
   "execution_count": 28,
   "metadata": {},
   "outputs": [
    {
     "data": {
      "text/plain": [
       "True"
      ]
     },
     "execution_count": 28,
     "metadata": {},
     "output_type": "execute_result"
    }
   ],
   "source": [
    "zoning_data['dunsnumber'].is_unique"
   ]
  },
  {
   "cell_type": "code",
   "execution_count": 29,
   "metadata": {},
   "outputs": [
    {
     "data": {
      "text/plain": [
       "True"
      ]
     },
     "execution_count": 29,
     "metadata": {},
     "output_type": "execute_result"
    }
   ],
   "source": [
    "business_data['dunsnumber'].is_unique"
   ]
  },
  {
   "cell_type": "markdown",
   "metadata": {},
   "source": [
    "It seems that we can use *dunsnumber* to do a merge on. Since you can only perform `merge()` on two datasets per call, will will join the 3 files in 2 steps: merge the tax_data to the business_data, then merge this newly merged dataframe to zoning_data."
   ]
  },
  {
   "cell_type": "code",
   "execution_count": 151,
   "metadata": {
    "scrolled": true
   },
   "outputs": [],
   "source": [
    "#TODO: join the tax to business data first\n",
    "Alameda_tax_business = pd.merge(tax_data, business_data, on='dunsnumber')"
   ]
  },
  {
   "cell_type": "code",
   "execution_count": 152,
   "metadata": {},
   "outputs": [],
   "source": [
    "#TODO: join the earlier dataframe to the zoning data\n",
    "Alameda_merged_data = pd.merge(Alameda_tax_business, zoning_data, on='dunsnumber')"
   ]
  },
  {
   "cell_type": "markdown",
   "metadata": {},
   "source": [
    "You can now save the joined dataframe to a csv file. You can list the file path, `index=False` tells pandas that we don't want the row to be indexed in our file."
   ]
  },
  {
   "cell_type": "code",
   "execution_count": 38,
   "metadata": {
    "scrolled": true
   },
   "outputs": [],
   "source": [
    "#TODO:\n",
    "Alameda_merged_data.to_csv(r\"files\\data\\Alameda_merged_data.csv\", index=False)"
   ]
  },
  {
   "cell_type": "markdown",
   "metadata": {},
   "source": [
    "### Join"
   ]
  },
  {
   "cell_type": "markdown",
   "metadata": {},
   "source": [
    "*Joining* is a method for combining together many DataFrame objects having the same or similar indexes but non-overlapping column. While similar to the pandas *merge* method, join **CANNOT** be used by calling `pandas.join()`, join **CAN** only be called by `dataframe.join()`, meaninn you have to have a dataframe to call the join on. Though it is sometimes more convenient because you can join multiple dataframes in one line. <br>\n",
    "Moreover, `join()` will use index to join on and `merge()` uses an `key` argument that we can specify."
   ]
  },
  {
   "cell_type": "code",
   "execution_count": 7,
   "metadata": {},
   "outputs": [
    {
     "data": {
      "text/html": [
       "<div>\n",
       "<style scoped>\n",
       "    .dataframe tbody tr th:only-of-type {\n",
       "        vertical-align: middle;\n",
       "    }\n",
       "\n",
       "    .dataframe tbody tr th {\n",
       "        vertical-align: top;\n",
       "    }\n",
       "\n",
       "    .dataframe thead th {\n",
       "        text-align: right;\n",
       "    }\n",
       "</style>\n",
       "<table border=\"1\" class=\"dataframe\">\n",
       "  <thead>\n",
       "    <tr style=\"text-align: right;\">\n",
       "      <th></th>\n",
       "      <th>Ohio</th>\n",
       "      <th>Nevada</th>\n",
       "    </tr>\n",
       "  </thead>\n",
       "  <tbody>\n",
       "    <tr>\n",
       "      <th>a</th>\n",
       "      <td>1</td>\n",
       "      <td>2</td>\n",
       "    </tr>\n",
       "    <tr>\n",
       "      <th>c</th>\n",
       "      <td>3</td>\n",
       "      <td>4</td>\n",
       "    </tr>\n",
       "    <tr>\n",
       "      <th>e</th>\n",
       "      <td>5</td>\n",
       "      <td>6</td>\n",
       "    </tr>\n",
       "  </tbody>\n",
       "</table>\n",
       "</div>"
      ],
      "text/plain": [
       "   Ohio  Nevada\n",
       "a     1       2\n",
       "c     3       4\n",
       "e     5       6"
      ]
     },
     "execution_count": 7,
     "metadata": {},
     "output_type": "execute_result"
    }
   ],
   "source": [
    "join_df1 = pd.DataFrame([[1, 2], [3,4], [5,6]],\n",
    "                       index=['a','c', 'e'],\n",
    "                       columns=['Ohio', 'Nevada'])\n",
    "join_df1"
   ]
  },
  {
   "cell_type": "code",
   "execution_count": 8,
   "metadata": {
    "scrolled": true
   },
   "outputs": [
    {
     "data": {
      "text/html": [
       "<div>\n",
       "<style scoped>\n",
       "    .dataframe tbody tr th:only-of-type {\n",
       "        vertical-align: middle;\n",
       "    }\n",
       "\n",
       "    .dataframe tbody tr th {\n",
       "        vertical-align: top;\n",
       "    }\n",
       "\n",
       "    .dataframe thead th {\n",
       "        text-align: right;\n",
       "    }\n",
       "</style>\n",
       "<table border=\"1\" class=\"dataframe\">\n",
       "  <thead>\n",
       "    <tr style=\"text-align: right;\">\n",
       "      <th></th>\n",
       "      <th>Missouri</th>\n",
       "      <th>Alabama</th>\n",
       "    </tr>\n",
       "  </thead>\n",
       "  <tbody>\n",
       "    <tr>\n",
       "      <th>b</th>\n",
       "      <td>7</td>\n",
       "      <td>8</td>\n",
       "    </tr>\n",
       "    <tr>\n",
       "      <th>c</th>\n",
       "      <td>9</td>\n",
       "      <td>10</td>\n",
       "    </tr>\n",
       "    <tr>\n",
       "      <th>d</th>\n",
       "      <td>11</td>\n",
       "      <td>12</td>\n",
       "    </tr>\n",
       "    <tr>\n",
       "      <th>e</th>\n",
       "      <td>13</td>\n",
       "      <td>14</td>\n",
       "    </tr>\n",
       "  </tbody>\n",
       "</table>\n",
       "</div>"
      ],
      "text/plain": [
       "   Missouri  Alabama\n",
       "b         7        8\n",
       "c         9       10\n",
       "d        11       12\n",
       "e        13       14"
      ]
     },
     "execution_count": 8,
     "metadata": {},
     "output_type": "execute_result"
    }
   ],
   "source": [
    "join_df2 = pd.DataFrame([[7,8],[9,10],[11,12],[13,14]],\n",
    "                       index=['b','c','d','e'],\n",
    "                       columns=['Missouri', 'Alabama'])\n",
    "join_df2"
   ]
  },
  {
   "cell_type": "markdown",
   "metadata": {},
   "source": [
    "By default, join without specifying the `how` argument will result in a join keeping the left dataframe index. <br> Here, we have `join_df1` joining with `join_df2` which results in a final dataframe keeping the index of `join_df` and the data of `join_df2` that matches those indexes."
   ]
  },
  {
   "cell_type": "code",
   "execution_count": 9,
   "metadata": {
    "scrolled": true
   },
   "outputs": [
    {
     "data": {
      "text/html": [
       "<div>\n",
       "<style scoped>\n",
       "    .dataframe tbody tr th:only-of-type {\n",
       "        vertical-align: middle;\n",
       "    }\n",
       "\n",
       "    .dataframe tbody tr th {\n",
       "        vertical-align: top;\n",
       "    }\n",
       "\n",
       "    .dataframe thead th {\n",
       "        text-align: right;\n",
       "    }\n",
       "</style>\n",
       "<table border=\"1\" class=\"dataframe\">\n",
       "  <thead>\n",
       "    <tr style=\"text-align: right;\">\n",
       "      <th></th>\n",
       "      <th>Ohio</th>\n",
       "      <th>Nevada</th>\n",
       "      <th>Missouri</th>\n",
       "      <th>Alabama</th>\n",
       "    </tr>\n",
       "  </thead>\n",
       "  <tbody>\n",
       "    <tr>\n",
       "      <th>a</th>\n",
       "      <td>1</td>\n",
       "      <td>2</td>\n",
       "      <td>NaN</td>\n",
       "      <td>NaN</td>\n",
       "    </tr>\n",
       "    <tr>\n",
       "      <th>c</th>\n",
       "      <td>3</td>\n",
       "      <td>4</td>\n",
       "      <td>9.0</td>\n",
       "      <td>10.0</td>\n",
       "    </tr>\n",
       "    <tr>\n",
       "      <th>e</th>\n",
       "      <td>5</td>\n",
       "      <td>6</td>\n",
       "      <td>13.0</td>\n",
       "      <td>14.0</td>\n",
       "    </tr>\n",
       "  </tbody>\n",
       "</table>\n",
       "</div>"
      ],
      "text/plain": [
       "   Ohio  Nevada  Missouri  Alabama\n",
       "a     1       2       NaN      NaN\n",
       "c     3       4       9.0     10.0\n",
       "e     5       6      13.0     14.0"
      ]
     },
     "execution_count": 9,
     "metadata": {},
     "output_type": "execute_result"
    }
   ],
   "source": [
    "joiningdfs = join_df1.join(join_df2)\n",
    "joiningdfs"
   ]
  },
  {
   "cell_type": "markdown",
   "metadata": {},
   "source": [
    "As mentioned, outer join results in no information loss."
   ]
  },
  {
   "cell_type": "code",
   "execution_count": 10,
   "metadata": {
    "scrolled": true
   },
   "outputs": [
    {
     "data": {
      "text/html": [
       "<div>\n",
       "<style scoped>\n",
       "    .dataframe tbody tr th:only-of-type {\n",
       "        vertical-align: middle;\n",
       "    }\n",
       "\n",
       "    .dataframe tbody tr th {\n",
       "        vertical-align: top;\n",
       "    }\n",
       "\n",
       "    .dataframe thead th {\n",
       "        text-align: right;\n",
       "    }\n",
       "</style>\n",
       "<table border=\"1\" class=\"dataframe\">\n",
       "  <thead>\n",
       "    <tr style=\"text-align: right;\">\n",
       "      <th></th>\n",
       "      <th>Ohio</th>\n",
       "      <th>Nevada</th>\n",
       "      <th>Missouri</th>\n",
       "      <th>Alabama</th>\n",
       "    </tr>\n",
       "  </thead>\n",
       "  <tbody>\n",
       "    <tr>\n",
       "      <th>a</th>\n",
       "      <td>1.0</td>\n",
       "      <td>2.0</td>\n",
       "      <td>NaN</td>\n",
       "      <td>NaN</td>\n",
       "    </tr>\n",
       "    <tr>\n",
       "      <th>b</th>\n",
       "      <td>NaN</td>\n",
       "      <td>NaN</td>\n",
       "      <td>7.0</td>\n",
       "      <td>8.0</td>\n",
       "    </tr>\n",
       "    <tr>\n",
       "      <th>c</th>\n",
       "      <td>3.0</td>\n",
       "      <td>4.0</td>\n",
       "      <td>9.0</td>\n",
       "      <td>10.0</td>\n",
       "    </tr>\n",
       "    <tr>\n",
       "      <th>d</th>\n",
       "      <td>NaN</td>\n",
       "      <td>NaN</td>\n",
       "      <td>11.0</td>\n",
       "      <td>12.0</td>\n",
       "    </tr>\n",
       "    <tr>\n",
       "      <th>e</th>\n",
       "      <td>5.0</td>\n",
       "      <td>6.0</td>\n",
       "      <td>13.0</td>\n",
       "      <td>14.0</td>\n",
       "    </tr>\n",
       "  </tbody>\n",
       "</table>\n",
       "</div>"
      ],
      "text/plain": [
       "   Ohio  Nevada  Missouri  Alabama\n",
       "a   1.0     2.0       NaN      NaN\n",
       "b   NaN     NaN       7.0      8.0\n",
       "c   3.0     4.0       9.0     10.0\n",
       "d   NaN     NaN      11.0     12.0\n",
       "e   5.0     6.0      13.0     14.0"
      ]
     },
     "execution_count": 10,
     "metadata": {},
     "output_type": "execute_result"
    }
   ],
   "source": [
    "outerjoin = join_df1.join(join_df2, how='outer')\n",
    "outerjoin"
   ]
  },
  {
   "cell_type": "code",
   "execution_count": 11,
   "metadata": {},
   "outputs": [
    {
     "data": {
      "text/html": [
       "<div>\n",
       "<style scoped>\n",
       "    .dataframe tbody tr th:only-of-type {\n",
       "        vertical-align: middle;\n",
       "    }\n",
       "\n",
       "    .dataframe tbody tr th {\n",
       "        vertical-align: top;\n",
       "    }\n",
       "\n",
       "    .dataframe thead th {\n",
       "        text-align: right;\n",
       "    }\n",
       "</style>\n",
       "<table border=\"1\" class=\"dataframe\">\n",
       "  <thead>\n",
       "    <tr style=\"text-align: right;\">\n",
       "      <th></th>\n",
       "      <th>New York</th>\n",
       "      <th>Oregon</th>\n",
       "    </tr>\n",
       "  </thead>\n",
       "  <tbody>\n",
       "    <tr>\n",
       "      <th>a</th>\n",
       "      <td>11</td>\n",
       "      <td>12</td>\n",
       "    </tr>\n",
       "    <tr>\n",
       "      <th>c</th>\n",
       "      <td>13</td>\n",
       "      <td>14</td>\n",
       "    </tr>\n",
       "    <tr>\n",
       "      <th>e</th>\n",
       "      <td>15</td>\n",
       "      <td>16</td>\n",
       "    </tr>\n",
       "  </tbody>\n",
       "</table>\n",
       "</div>"
      ],
      "text/plain": [
       "   New York  Oregon\n",
       "a        11      12\n",
       "c        13      14\n",
       "e        15      16"
      ]
     },
     "execution_count": 11,
     "metadata": {},
     "output_type": "execute_result"
    }
   ],
   "source": [
    "join_df3 = pd.DataFrame([[11,12],[13,14],[15,16]],\n",
    "                       index=['a','c','e'],\n",
    "                       columns=['New York', 'Oregon'])\n",
    "join_df3"
   ]
  },
  {
   "cell_type": "markdown",
   "metadata": {},
   "source": [
    "With `join()`, you can join multiple DataFrames, unlike merge. "
   ]
  },
  {
   "cell_type": "code",
   "execution_count": 12,
   "metadata": {
    "scrolled": false
   },
   "outputs": [
    {
     "data": {
      "text/html": [
       "<div>\n",
       "<style scoped>\n",
       "    .dataframe tbody tr th:only-of-type {\n",
       "        vertical-align: middle;\n",
       "    }\n",
       "\n",
       "    .dataframe tbody tr th {\n",
       "        vertical-align: top;\n",
       "    }\n",
       "\n",
       "    .dataframe thead th {\n",
       "        text-align: right;\n",
       "    }\n",
       "</style>\n",
       "<table border=\"1\" class=\"dataframe\">\n",
       "  <thead>\n",
       "    <tr style=\"text-align: right;\">\n",
       "      <th></th>\n",
       "      <th>Missouri</th>\n",
       "      <th>Alabama</th>\n",
       "      <th>Ohio</th>\n",
       "      <th>Nevada</th>\n",
       "      <th>New York</th>\n",
       "      <th>Oregon</th>\n",
       "    </tr>\n",
       "  </thead>\n",
       "  <tbody>\n",
       "    <tr>\n",
       "      <th>b</th>\n",
       "      <td>7.0</td>\n",
       "      <td>8.0</td>\n",
       "      <td>NaN</td>\n",
       "      <td>NaN</td>\n",
       "      <td>NaN</td>\n",
       "      <td>NaN</td>\n",
       "    </tr>\n",
       "    <tr>\n",
       "      <th>c</th>\n",
       "      <td>9.0</td>\n",
       "      <td>10.0</td>\n",
       "      <td>3.0</td>\n",
       "      <td>4.0</td>\n",
       "      <td>13.0</td>\n",
       "      <td>14.0</td>\n",
       "    </tr>\n",
       "    <tr>\n",
       "      <th>d</th>\n",
       "      <td>11.0</td>\n",
       "      <td>12.0</td>\n",
       "      <td>NaN</td>\n",
       "      <td>NaN</td>\n",
       "      <td>NaN</td>\n",
       "      <td>NaN</td>\n",
       "    </tr>\n",
       "    <tr>\n",
       "      <th>e</th>\n",
       "      <td>13.0</td>\n",
       "      <td>14.0</td>\n",
       "      <td>5.0</td>\n",
       "      <td>6.0</td>\n",
       "      <td>15.0</td>\n",
       "      <td>16.0</td>\n",
       "    </tr>\n",
       "    <tr>\n",
       "      <th>a</th>\n",
       "      <td>NaN</td>\n",
       "      <td>NaN</td>\n",
       "      <td>1.0</td>\n",
       "      <td>2.0</td>\n",
       "      <td>11.0</td>\n",
       "      <td>12.0</td>\n",
       "    </tr>\n",
       "  </tbody>\n",
       "</table>\n",
       "</div>"
      ],
      "text/plain": [
       "   Missouri  Alabama  Ohio  Nevada  New York  Oregon\n",
       "b       7.0      8.0   NaN     NaN       NaN     NaN\n",
       "c       9.0     10.0   3.0     4.0      13.0    14.0\n",
       "d      11.0     12.0   NaN     NaN       NaN     NaN\n",
       "e      13.0     14.0   5.0     6.0      15.0    16.0\n",
       "a       NaN      NaN   1.0     2.0      11.0    12.0"
      ]
     },
     "execution_count": 12,
     "metadata": {},
     "output_type": "execute_result"
    }
   ],
   "source": [
    "multi_join = join_df2.join([join_df1, join_df3], how='outer')\n",
    "multi_join"
   ]
  },
  {
   "cell_type": "markdown",
   "metadata": {},
   "source": [
    "To join our Alameda dataframes, we would need to reindex the dataframe to have the common column because `join()` uses index for joining. To do this, we can use `set_index()`. Since we have overlapping apn in each dataframe, the join function will throw an error, to correct this we can drop the apn column by calling `drop()`. <br>\n",
    "Remember, drop() needs an additional argument where *axis{0 or ‘index’, 1 or ‘columns’}, default 0*, if you're confused, use `?pd.DataFrame.drop`"
   ]
  },
  {
   "cell_type": "code",
   "execution_count": 69,
   "metadata": {},
   "outputs": [],
   "source": [
    "#TODO: set index prior to joining, dropping apn column to prevent ValueError of overlapping values in the apn column.\n",
    "tax_data = tax_data.set_index('dunsnumber').drop('apn', axis=1)\n",
    "zoning_data = zoning_data.set_index('dunsnumber').drop('apn', axis=1)\n",
    "business_data = business_data.set_index('dunsnumber').drop('apn', axis=1)"
   ]
  },
  {
   "cell_type": "code",
   "execution_count": 64,
   "metadata": {
    "scrolled": true
   },
   "outputs": [],
   "source": [
    "#TODO: join multiple dataframe in one line\n",
    "Alameda_joined_data = tax_data.join([zoning_data, business_data], how='inner')"
   ]
  },
  {
   "cell_type": "code",
   "execution_count": 66,
   "metadata": {},
   "outputs": [],
   "source": [
    "#TODO: \n",
    "Alameda_joined_data.to_csv(r\"files\\data\\Alameda_joined_data.csv\")"
   ]
  },
  {
   "cell_type": "markdown",
   "metadata": {},
   "source": [
    "By now you should have two saved csv files: Alameda_merged_data and Alameda_joined_data. They both gave us the same result, you've just combined them in two different methods."
   ]
  },
  {
   "cell_type": "markdown",
   "metadata": {},
   "source": [
    "### Pivot & Tranpose & Concatenate"
   ]
  },
  {
   "cell_type": "markdown",
   "metadata": {},
   "source": [
    "Right now, the dataframe is indexed at labels. What if we want to visualize the states as a column. We can use `transpose()` to do this. "
   ]
  },
  {
   "cell_type": "code",
   "execution_count": 66,
   "metadata": {},
   "outputs": [
    {
     "data": {
      "text/html": [
       "<div>\n",
       "<style scoped>\n",
       "    .dataframe tbody tr th:only-of-type {\n",
       "        vertical-align: middle;\n",
       "    }\n",
       "\n",
       "    .dataframe tbody tr th {\n",
       "        vertical-align: top;\n",
       "    }\n",
       "\n",
       "    .dataframe thead th {\n",
       "        text-align: right;\n",
       "    }\n",
       "</style>\n",
       "<table border=\"1\" class=\"dataframe\">\n",
       "  <thead>\n",
       "    <tr style=\"text-align: right;\">\n",
       "      <th></th>\n",
       "      <th>Missouri</th>\n",
       "      <th>Alabama</th>\n",
       "      <th>Ohio</th>\n",
       "      <th>Nevada</th>\n",
       "      <th>New York</th>\n",
       "      <th>Oregon</th>\n",
       "    </tr>\n",
       "  </thead>\n",
       "  <tbody>\n",
       "    <tr>\n",
       "      <th>b</th>\n",
       "      <td>7.0</td>\n",
       "      <td>8.0</td>\n",
       "      <td>NaN</td>\n",
       "      <td>NaN</td>\n",
       "      <td>NaN</td>\n",
       "      <td>NaN</td>\n",
       "    </tr>\n",
       "    <tr>\n",
       "      <th>c</th>\n",
       "      <td>9.0</td>\n",
       "      <td>10.0</td>\n",
       "      <td>3.0</td>\n",
       "      <td>4.0</td>\n",
       "      <td>13.0</td>\n",
       "      <td>14.0</td>\n",
       "    </tr>\n",
       "    <tr>\n",
       "      <th>d</th>\n",
       "      <td>11.0</td>\n",
       "      <td>12.0</td>\n",
       "      <td>NaN</td>\n",
       "      <td>NaN</td>\n",
       "      <td>NaN</td>\n",
       "      <td>NaN</td>\n",
       "    </tr>\n",
       "    <tr>\n",
       "      <th>e</th>\n",
       "      <td>13.0</td>\n",
       "      <td>14.0</td>\n",
       "      <td>5.0</td>\n",
       "      <td>6.0</td>\n",
       "      <td>15.0</td>\n",
       "      <td>16.0</td>\n",
       "    </tr>\n",
       "    <tr>\n",
       "      <th>a</th>\n",
       "      <td>NaN</td>\n",
       "      <td>NaN</td>\n",
       "      <td>1.0</td>\n",
       "      <td>2.0</td>\n",
       "      <td>11.0</td>\n",
       "      <td>12.0</td>\n",
       "    </tr>\n",
       "  </tbody>\n",
       "</table>\n",
       "</div>"
      ],
      "text/plain": [
       "   Missouri  Alabama  Ohio  Nevada  New York  Oregon\n",
       "b       7.0      8.0   NaN     NaN       NaN     NaN\n",
       "c       9.0     10.0   3.0     4.0      13.0    14.0\n",
       "d      11.0     12.0   NaN     NaN       NaN     NaN\n",
       "e      13.0     14.0   5.0     6.0      15.0    16.0\n",
       "a       NaN      NaN   1.0     2.0      11.0    12.0"
      ]
     },
     "execution_count": 66,
     "metadata": {},
     "output_type": "execute_result"
    }
   ],
   "source": [
    "multi_join"
   ]
  },
  {
   "cell_type": "code",
   "execution_count": 67,
   "metadata": {},
   "outputs": [
    {
     "data": {
      "text/html": [
       "<div>\n",
       "<style scoped>\n",
       "    .dataframe tbody tr th:only-of-type {\n",
       "        vertical-align: middle;\n",
       "    }\n",
       "\n",
       "    .dataframe tbody tr th {\n",
       "        vertical-align: top;\n",
       "    }\n",
       "\n",
       "    .dataframe thead th {\n",
       "        text-align: right;\n",
       "    }\n",
       "</style>\n",
       "<table border=\"1\" class=\"dataframe\">\n",
       "  <thead>\n",
       "    <tr style=\"text-align: right;\">\n",
       "      <th></th>\n",
       "      <th>b</th>\n",
       "      <th>c</th>\n",
       "      <th>d</th>\n",
       "      <th>e</th>\n",
       "      <th>a</th>\n",
       "    </tr>\n",
       "  </thead>\n",
       "  <tbody>\n",
       "    <tr>\n",
       "      <th>Missouri</th>\n",
       "      <td>7.0</td>\n",
       "      <td>9.0</td>\n",
       "      <td>11.0</td>\n",
       "      <td>13.0</td>\n",
       "      <td>NaN</td>\n",
       "    </tr>\n",
       "    <tr>\n",
       "      <th>Alabama</th>\n",
       "      <td>8.0</td>\n",
       "      <td>10.0</td>\n",
       "      <td>12.0</td>\n",
       "      <td>14.0</td>\n",
       "      <td>NaN</td>\n",
       "    </tr>\n",
       "    <tr>\n",
       "      <th>Ohio</th>\n",
       "      <td>NaN</td>\n",
       "      <td>3.0</td>\n",
       "      <td>NaN</td>\n",
       "      <td>5.0</td>\n",
       "      <td>1.0</td>\n",
       "    </tr>\n",
       "    <tr>\n",
       "      <th>Nevada</th>\n",
       "      <td>NaN</td>\n",
       "      <td>4.0</td>\n",
       "      <td>NaN</td>\n",
       "      <td>6.0</td>\n",
       "      <td>2.0</td>\n",
       "    </tr>\n",
       "    <tr>\n",
       "      <th>New York</th>\n",
       "      <td>NaN</td>\n",
       "      <td>13.0</td>\n",
       "      <td>NaN</td>\n",
       "      <td>15.0</td>\n",
       "      <td>11.0</td>\n",
       "    </tr>\n",
       "    <tr>\n",
       "      <th>Oregon</th>\n",
       "      <td>NaN</td>\n",
       "      <td>14.0</td>\n",
       "      <td>NaN</td>\n",
       "      <td>16.0</td>\n",
       "      <td>12.0</td>\n",
       "    </tr>\n",
       "  </tbody>\n",
       "</table>\n",
       "</div>"
      ],
      "text/plain": [
       "            b     c     d     e     a\n",
       "Missouri  7.0   9.0  11.0  13.0   NaN\n",
       "Alabama   8.0  10.0  12.0  14.0   NaN\n",
       "Ohio      NaN   3.0   NaN   5.0   1.0\n",
       "Nevada    NaN   4.0   NaN   6.0   2.0\n",
       "New York  NaN  13.0   NaN  15.0  11.0\n",
       "Oregon    NaN  14.0   NaN  16.0  12.0"
      ]
     },
     "execution_count": 67,
     "metadata": {},
     "output_type": "execute_result"
    }
   ],
   "source": [
    "multi_join.transpose()"
   ]
  },
  {
   "cell_type": "markdown",
   "metadata": {},
   "source": [
    "Try it here with your joined Alameda dataframe. Remember, you can use `set_index` and `reset_index()` first to specifically tell pandas which index you would like to transpose."
   ]
  },
  {
   "cell_type": "code",
   "execution_count": 70,
   "metadata": {},
   "outputs": [],
   "source": [
    "#TODO: try set_index and transpose functions on Alameda file based on the variable of interest.\n",
    "\n"
   ]
  },
  {
   "cell_type": "markdown",
   "metadata": {},
   "source": [
    "We can reshape a dataframe by using the `pivot_table` or `pivot()`.\n",
    "\n",
    "It would be more useful to use the `pivot_tables` if you want to apply an aggregate function to the values. <br>\n",
    "Check out the example below."
   ]
  },
  {
   "cell_type": "code",
   "execution_count": 119,
   "metadata": {
    "scrolled": true
   },
   "outputs": [
    {
     "data": {
      "text/html": [
       "<div>\n",
       "<style scoped>\n",
       "    .dataframe tbody tr th:only-of-type {\n",
       "        vertical-align: middle;\n",
       "    }\n",
       "\n",
       "    .dataframe tbody tr th {\n",
       "        vertical-align: top;\n",
       "    }\n",
       "\n",
       "    .dataframe thead th {\n",
       "        text-align: right;\n",
       "    }\n",
       "</style>\n",
       "<table border=\"1\" class=\"dataframe\">\n",
       "  <thead>\n",
       "    <tr style=\"text-align: right;\">\n",
       "      <th></th>\n",
       "      <th>month</th>\n",
       "      <th>year</th>\n",
       "      <th>sale</th>\n",
       "      <th>size</th>\n",
       "    </tr>\n",
       "  </thead>\n",
       "  <tbody>\n",
       "    <tr>\n",
       "      <th>0</th>\n",
       "      <td>1</td>\n",
       "      <td>2012</td>\n",
       "      <td>55</td>\n",
       "      <td>big</td>\n",
       "    </tr>\n",
       "    <tr>\n",
       "      <th>1</th>\n",
       "      <td>4</td>\n",
       "      <td>2012</td>\n",
       "      <td>40</td>\n",
       "      <td>small</td>\n",
       "    </tr>\n",
       "    <tr>\n",
       "      <th>2</th>\n",
       "      <td>7</td>\n",
       "      <td>2013</td>\n",
       "      <td>84</td>\n",
       "      <td>big</td>\n",
       "    </tr>\n",
       "    <tr>\n",
       "      <th>3</th>\n",
       "      <td>10</td>\n",
       "      <td>2013</td>\n",
       "      <td>31</td>\n",
       "      <td>small</td>\n",
       "    </tr>\n",
       "  </tbody>\n",
       "</table>\n",
       "</div>"
      ],
      "text/plain": [
       "   month  year  sale   size\n",
       "0      1  2012    55    big\n",
       "1      4  2012    40  small\n",
       "2      7  2013    84    big\n",
       "3     10  2013    31  small"
      ]
     },
     "execution_count": 119,
     "metadata": {},
     "output_type": "execute_result"
    }
   ],
   "source": [
    "pivot_df = pd.DataFrame({'month': [1, 4, 7, 10],\n",
    "                   'year': [2012, 2012, 2013, 2013],\n",
    "                   'sale': [55, 40, 84, 31],\n",
    "                    'size': ['big', 'small','big','small']})\n",
    "pivot_df"
   ]
  },
  {
   "cell_type": "code",
   "execution_count": 121,
   "metadata": {},
   "outputs": [
    {
     "data": {
      "text/html": [
       "<div>\n",
       "<style scoped>\n",
       "    .dataframe tbody tr th:only-of-type {\n",
       "        vertical-align: middle;\n",
       "    }\n",
       "\n",
       "    .dataframe tbody tr th {\n",
       "        vertical-align: top;\n",
       "    }\n",
       "\n",
       "    .dataframe thead th {\n",
       "        text-align: right;\n",
       "    }\n",
       "</style>\n",
       "<table border=\"1\" class=\"dataframe\">\n",
       "  <thead>\n",
       "    <tr style=\"text-align: right;\">\n",
       "      <th></th>\n",
       "      <th>size</th>\n",
       "      <th>big</th>\n",
       "      <th>small</th>\n",
       "    </tr>\n",
       "    <tr>\n",
       "      <th>year</th>\n",
       "      <th>month</th>\n",
       "      <th></th>\n",
       "      <th></th>\n",
       "    </tr>\n",
       "  </thead>\n",
       "  <tbody>\n",
       "    <tr>\n",
       "      <th rowspan=\"2\" valign=\"top\">2012</th>\n",
       "      <th>1</th>\n",
       "      <td>55.0</td>\n",
       "      <td>NaN</td>\n",
       "    </tr>\n",
       "    <tr>\n",
       "      <th>4</th>\n",
       "      <td>NaN</td>\n",
       "      <td>40.0</td>\n",
       "    </tr>\n",
       "    <tr>\n",
       "      <th rowspan=\"2\" valign=\"top\">2013</th>\n",
       "      <th>7</th>\n",
       "      <td>84.0</td>\n",
       "      <td>NaN</td>\n",
       "    </tr>\n",
       "    <tr>\n",
       "      <th>10</th>\n",
       "      <td>NaN</td>\n",
       "      <td>31.0</td>\n",
       "    </tr>\n",
       "  </tbody>\n",
       "</table>\n",
       "</div>"
      ],
      "text/plain": [
       "size         big  small\n",
       "year month             \n",
       "2012 1      55.0    NaN\n",
       "     4       NaN   40.0\n",
       "2013 7      84.0    NaN\n",
       "     10      NaN   31.0"
      ]
     },
     "execution_count": 121,
     "metadata": {},
     "output_type": "execute_result"
    }
   ],
   "source": [
    "# Here I am using an aggregate function numpy sum\n",
    "pivot_df.pivot_table(values='sale', index=['year', 'month'],\n",
    "                    columns=['size'], aggfunc=np.sum)"
   ]
  },
  {
   "cell_type": "code",
   "execution_count": 122,
   "metadata": {
    "scrolled": true
   },
   "outputs": [
    {
     "data": {
      "text/html": [
       "<div>\n",
       "<style scoped>\n",
       "    .dataframe tbody tr th:only-of-type {\n",
       "        vertical-align: middle;\n",
       "    }\n",
       "\n",
       "    .dataframe tbody tr th {\n",
       "        vertical-align: top;\n",
       "    }\n",
       "\n",
       "    .dataframe thead th {\n",
       "        text-align: right;\n",
       "    }\n",
       "</style>\n",
       "<table border=\"1\" class=\"dataframe\">\n",
       "  <thead>\n",
       "    <tr style=\"text-align: right;\">\n",
       "      <th>month</th>\n",
       "      <th>1</th>\n",
       "      <th>4</th>\n",
       "      <th>7</th>\n",
       "      <th>10</th>\n",
       "    </tr>\n",
       "    <tr>\n",
       "      <th>year</th>\n",
       "      <th></th>\n",
       "      <th></th>\n",
       "      <th></th>\n",
       "      <th></th>\n",
       "    </tr>\n",
       "  </thead>\n",
       "  <tbody>\n",
       "    <tr>\n",
       "      <th>2012</th>\n",
       "      <td>55.0</td>\n",
       "      <td>40.0</td>\n",
       "      <td>NaN</td>\n",
       "      <td>NaN</td>\n",
       "    </tr>\n",
       "    <tr>\n",
       "      <th>2013</th>\n",
       "      <td>NaN</td>\n",
       "      <td>NaN</td>\n",
       "      <td>84.0</td>\n",
       "      <td>31.0</td>\n",
       "    </tr>\n",
       "  </tbody>\n",
       "</table>\n",
       "</div>"
      ],
      "text/plain": [
       "month    1     4     7     10\n",
       "year                         \n",
       "2012   55.0  40.0   NaN   NaN\n",
       "2013    NaN   NaN  84.0  31.0"
      ]
     },
     "execution_count": 122,
     "metadata": {},
     "output_type": "execute_result"
    }
   ],
   "source": [
    "# Alternatively, you can just use pivot() and leave out the aggr func\n",
    "pivot_df.pivot(index='year', columns='month', values='sale')"
   ]
  },
  {
   "cell_type": "code",
   "execution_count": 123,
   "metadata": {},
   "outputs": [],
   "source": [
    "#TODO: try either method on Alameda joined file based on 3 variables of interest.\n",
    "\n"
   ]
  },
  {
   "cell_type": "markdown",
   "metadata": {},
   "source": [
    "*Concatenating* stacks together DataFrame along an axis. To combine (concatenate) the two datasets into a single DataFrame, provided both have the same columns. <br>"
   ]
  },
  {
   "cell_type": "code",
   "execution_count": null,
   "metadata": {},
   "outputs": [],
   "source": [
    "?pd.concat"
   ]
  },
  {
   "cell_type": "code",
   "execution_count": 59,
   "metadata": {},
   "outputs": [
    {
     "data": {
      "text/html": [
       "<div>\n",
       "<style scoped>\n",
       "    .dataframe tbody tr th:only-of-type {\n",
       "        vertical-align: middle;\n",
       "    }\n",
       "\n",
       "    .dataframe tbody tr th {\n",
       "        vertical-align: top;\n",
       "    }\n",
       "\n",
       "    .dataframe thead th {\n",
       "        text-align: right;\n",
       "    }\n",
       "</style>\n",
       "<table border=\"1\" class=\"dataframe\">\n",
       "  <thead>\n",
       "    <tr style=\"text-align: right;\">\n",
       "      <th></th>\n",
       "      <th>key</th>\n",
       "      <th>value1</th>\n",
       "    </tr>\n",
       "  </thead>\n",
       "  <tbody>\n",
       "    <tr>\n",
       "      <th>0</th>\n",
       "      <td>a</td>\n",
       "      <td>0</td>\n",
       "    </tr>\n",
       "    <tr>\n",
       "      <th>1</th>\n",
       "      <td>b</td>\n",
       "      <td>1</td>\n",
       "    </tr>\n",
       "    <tr>\n",
       "      <th>2</th>\n",
       "      <td>c</td>\n",
       "      <td>2</td>\n",
       "    </tr>\n",
       "    <tr>\n",
       "      <th>3</th>\n",
       "      <td>d</td>\n",
       "      <td>3</td>\n",
       "    </tr>\n",
       "    <tr>\n",
       "      <th>4</th>\n",
       "      <td>f</td>\n",
       "      <td>4</td>\n",
       "    </tr>\n",
       "  </tbody>\n",
       "</table>\n",
       "</div>"
      ],
      "text/plain": [
       "  key  value1\n",
       "0   a       0\n",
       "1   b       1\n",
       "2   c       2\n",
       "3   d       3\n",
       "4   f       4"
      ]
     },
     "execution_count": 59,
     "metadata": {},
     "output_type": "execute_result"
    }
   ],
   "source": [
    "df1"
   ]
  },
  {
   "cell_type": "code",
   "execution_count": 124,
   "metadata": {
    "scrolled": true
   },
   "outputs": [
    {
     "data": {
      "text/html": [
       "<div>\n",
       "<style scoped>\n",
       "    .dataframe tbody tr th:only-of-type {\n",
       "        vertical-align: middle;\n",
       "    }\n",
       "\n",
       "    .dataframe tbody tr th {\n",
       "        vertical-align: top;\n",
       "    }\n",
       "\n",
       "    .dataframe thead th {\n",
       "        text-align: right;\n",
       "    }\n",
       "</style>\n",
       "<table border=\"1\" class=\"dataframe\">\n",
       "  <thead>\n",
       "    <tr style=\"text-align: right;\">\n",
       "      <th></th>\n",
       "      <th>key</th>\n",
       "      <th>month</th>\n",
       "      <th>sale</th>\n",
       "      <th>size</th>\n",
       "      <th>value1</th>\n",
       "      <th>year</th>\n",
       "    </tr>\n",
       "  </thead>\n",
       "  <tbody>\n",
       "    <tr>\n",
       "      <th>0</th>\n",
       "      <td>a</td>\n",
       "      <td>NaN</td>\n",
       "      <td>NaN</td>\n",
       "      <td>NaN</td>\n",
       "      <td>0.0</td>\n",
       "      <td>NaN</td>\n",
       "    </tr>\n",
       "    <tr>\n",
       "      <th>1</th>\n",
       "      <td>b</td>\n",
       "      <td>NaN</td>\n",
       "      <td>NaN</td>\n",
       "      <td>NaN</td>\n",
       "      <td>1.0</td>\n",
       "      <td>NaN</td>\n",
       "    </tr>\n",
       "    <tr>\n",
       "      <th>2</th>\n",
       "      <td>c</td>\n",
       "      <td>NaN</td>\n",
       "      <td>NaN</td>\n",
       "      <td>NaN</td>\n",
       "      <td>2.0</td>\n",
       "      <td>NaN</td>\n",
       "    </tr>\n",
       "    <tr>\n",
       "      <th>3</th>\n",
       "      <td>d</td>\n",
       "      <td>NaN</td>\n",
       "      <td>NaN</td>\n",
       "      <td>NaN</td>\n",
       "      <td>3.0</td>\n",
       "      <td>NaN</td>\n",
       "    </tr>\n",
       "    <tr>\n",
       "      <th>4</th>\n",
       "      <td>f</td>\n",
       "      <td>NaN</td>\n",
       "      <td>NaN</td>\n",
       "      <td>NaN</td>\n",
       "      <td>4.0</td>\n",
       "      <td>NaN</td>\n",
       "    </tr>\n",
       "    <tr>\n",
       "      <th>5</th>\n",
       "      <td>NaN</td>\n",
       "      <td>1.0</td>\n",
       "      <td>55.0</td>\n",
       "      <td>big</td>\n",
       "      <td>NaN</td>\n",
       "      <td>2012.0</td>\n",
       "    </tr>\n",
       "    <tr>\n",
       "      <th>6</th>\n",
       "      <td>NaN</td>\n",
       "      <td>4.0</td>\n",
       "      <td>40.0</td>\n",
       "      <td>small</td>\n",
       "      <td>NaN</td>\n",
       "      <td>2012.0</td>\n",
       "    </tr>\n",
       "    <tr>\n",
       "      <th>7</th>\n",
       "      <td>NaN</td>\n",
       "      <td>7.0</td>\n",
       "      <td>84.0</td>\n",
       "      <td>big</td>\n",
       "      <td>NaN</td>\n",
       "      <td>2013.0</td>\n",
       "    </tr>\n",
       "    <tr>\n",
       "      <th>8</th>\n",
       "      <td>NaN</td>\n",
       "      <td>10.0</td>\n",
       "      <td>31.0</td>\n",
       "      <td>small</td>\n",
       "      <td>NaN</td>\n",
       "      <td>2013.0</td>\n",
       "    </tr>\n",
       "  </tbody>\n",
       "</table>\n",
       "</div>"
      ],
      "text/plain": [
       "   key  month  sale   size  value1    year\n",
       "0    a    NaN   NaN    NaN     0.0     NaN\n",
       "1    b    NaN   NaN    NaN     1.0     NaN\n",
       "2    c    NaN   NaN    NaN     2.0     NaN\n",
       "3    d    NaN   NaN    NaN     3.0     NaN\n",
       "4    f    NaN   NaN    NaN     4.0     NaN\n",
       "5  NaN    1.0  55.0    big     NaN  2012.0\n",
       "6  NaN    4.0  40.0  small     NaN  2012.0\n",
       "7  NaN    7.0  84.0    big     NaN  2013.0\n",
       "8  NaN   10.0  31.0  small     NaN  2013.0"
      ]
     },
     "execution_count": 124,
     "metadata": {},
     "output_type": "execute_result"
    }
   ],
   "source": [
    "#By default, concat will use axis 0 (denoting row), stacking the dataframe on top of each other by row. \n",
    "#From the concatenated table below, you can see here that from index 1 to 4 is our first table, the following \n",
    "#index 5 to 8 is our second table. \n",
    "#The index is thrown out of wack, here I reset the index and drop the old index with axis 1 denoting that \n",
    "#it's a column.\n",
    "\n",
    "concatdf = pd.concat([df1, pivot_df], sort=True).reset_index().drop('index', axis=1)\n",
    "concatdf"
   ]
  },
  {
   "cell_type": "markdown",
   "metadata": {},
   "source": [
    "The argument `axis=0` will give us the stacked version (row by row) as above and `axis=1` will give us the side by side (column by column dataframe)"
   ]
  },
  {
   "cell_type": "code",
   "execution_count": 126,
   "metadata": {
    "scrolled": true
   },
   "outputs": [
    {
     "data": {
      "text/html": [
       "<div>\n",
       "<style scoped>\n",
       "    .dataframe tbody tr th:only-of-type {\n",
       "        vertical-align: middle;\n",
       "    }\n",
       "\n",
       "    .dataframe tbody tr th {\n",
       "        vertical-align: top;\n",
       "    }\n",
       "\n",
       "    .dataframe thead th {\n",
       "        text-align: right;\n",
       "    }\n",
       "</style>\n",
       "<table border=\"1\" class=\"dataframe\">\n",
       "  <thead>\n",
       "    <tr style=\"text-align: right;\">\n",
       "      <th></th>\n",
       "      <th>key</th>\n",
       "      <th>value1</th>\n",
       "      <th>month</th>\n",
       "      <th>year</th>\n",
       "      <th>sale</th>\n",
       "      <th>size</th>\n",
       "    </tr>\n",
       "  </thead>\n",
       "  <tbody>\n",
       "    <tr>\n",
       "      <th>0</th>\n",
       "      <td>a</td>\n",
       "      <td>0</td>\n",
       "      <td>1.0</td>\n",
       "      <td>2012.0</td>\n",
       "      <td>55.0</td>\n",
       "      <td>big</td>\n",
       "    </tr>\n",
       "    <tr>\n",
       "      <th>1</th>\n",
       "      <td>b</td>\n",
       "      <td>1</td>\n",
       "      <td>4.0</td>\n",
       "      <td>2012.0</td>\n",
       "      <td>40.0</td>\n",
       "      <td>small</td>\n",
       "    </tr>\n",
       "    <tr>\n",
       "      <th>2</th>\n",
       "      <td>c</td>\n",
       "      <td>2</td>\n",
       "      <td>7.0</td>\n",
       "      <td>2013.0</td>\n",
       "      <td>84.0</td>\n",
       "      <td>big</td>\n",
       "    </tr>\n",
       "    <tr>\n",
       "      <th>3</th>\n",
       "      <td>d</td>\n",
       "      <td>3</td>\n",
       "      <td>10.0</td>\n",
       "      <td>2013.0</td>\n",
       "      <td>31.0</td>\n",
       "      <td>small</td>\n",
       "    </tr>\n",
       "    <tr>\n",
       "      <th>4</th>\n",
       "      <td>f</td>\n",
       "      <td>4</td>\n",
       "      <td>NaN</td>\n",
       "      <td>NaN</td>\n",
       "      <td>NaN</td>\n",
       "      <td>NaN</td>\n",
       "    </tr>\n",
       "  </tbody>\n",
       "</table>\n",
       "</div>"
      ],
      "text/plain": [
       "  key  value1  month    year  sale   size\n",
       "0   a       0    1.0  2012.0  55.0    big\n",
       "1   b       1    4.0  2012.0  40.0  small\n",
       "2   c       2    7.0  2013.0  84.0    big\n",
       "3   d       3   10.0  2013.0  31.0  small\n",
       "4   f       4    NaN     NaN   NaN    NaN"
      ]
     },
     "execution_count": 126,
     "metadata": {},
     "output_type": "execute_result"
    }
   ],
   "source": [
    "concatdf_axis1 = pd.concat([df1, pivot_df], axis=1)\n",
    "concatdf_axis1"
   ]
  },
  {
   "cell_type": "code",
   "execution_count": 135,
   "metadata": {},
   "outputs": [],
   "source": [
    "#TODO: try filtering for the dataframe(s) you would like to perform concatenation to:\n",
    "\n"
   ]
  },
  {
   "cell_type": "markdown",
   "metadata": {},
   "source": [
    "### Percent Change & Sort Values"
   ]
  },
  {
   "cell_type": "markdown",
   "metadata": {},
   "source": [
    "Pandas has an excellent DataFrame operation called DataFrame.pct_change(). This operation calculates down the column and replace the value with the percent change between itself and the row above it."
   ]
  },
  {
   "cell_type": "code",
   "execution_count": 91,
   "metadata": {
    "scrolled": true
   },
   "outputs": [
    {
     "data": {
      "text/html": [
       "<div>\n",
       "<style scoped>\n",
       "    .dataframe tbody tr th:only-of-type {\n",
       "        vertical-align: middle;\n",
       "    }\n",
       "\n",
       "    .dataframe tbody tr th {\n",
       "        vertical-align: top;\n",
       "    }\n",
       "\n",
       "    .dataframe thead th {\n",
       "        text-align: right;\n",
       "    }\n",
       "</style>\n",
       "<table border=\"1\" class=\"dataframe\">\n",
       "  <thead>\n",
       "    <tr style=\"text-align: right;\">\n",
       "      <th></th>\n",
       "      <th>New York</th>\n",
       "      <th>Oregon</th>\n",
       "      <th>California</th>\n",
       "    </tr>\n",
       "  </thead>\n",
       "  <tbody>\n",
       "    <tr>\n",
       "      <th>1990</th>\n",
       "      <td>11</td>\n",
       "      <td>12</td>\n",
       "      <td>100</td>\n",
       "    </tr>\n",
       "    <tr>\n",
       "      <th>1991</th>\n",
       "      <td>13</td>\n",
       "      <td>14</td>\n",
       "      <td>203</td>\n",
       "    </tr>\n",
       "    <tr>\n",
       "      <th>1992</th>\n",
       "      <td>15</td>\n",
       "      <td>16</td>\n",
       "      <td>391</td>\n",
       "    </tr>\n",
       "    <tr>\n",
       "      <th>1993</th>\n",
       "      <td>39</td>\n",
       "      <td>24</td>\n",
       "      <td>11</td>\n",
       "    </tr>\n",
       "  </tbody>\n",
       "</table>\n",
       "</div>"
      ],
      "text/plain": [
       "      New York  Oregon  California\n",
       "1990        11      12         100\n",
       "1991        13      14         203\n",
       "1992        15      16         391\n",
       "1993        39      24          11"
      ]
     },
     "execution_count": 91,
     "metadata": {},
     "output_type": "execute_result"
    }
   ],
   "source": [
    "pct_change = pd.DataFrame([[11,12,100],[13,14,203],[15,16,391], [39,24,11]],\n",
    "                       index=['1990','1991','1992','1993'],\n",
    "                       columns=['New York', 'Oregon', 'California'])\n",
    "pct_change"
   ]
  },
  {
   "cell_type": "code",
   "execution_count": 136,
   "metadata": {},
   "outputs": [
    {
     "data": {
      "text/html": [
       "<div>\n",
       "<style scoped>\n",
       "    .dataframe tbody tr th:only-of-type {\n",
       "        vertical-align: middle;\n",
       "    }\n",
       "\n",
       "    .dataframe tbody tr th {\n",
       "        vertical-align: top;\n",
       "    }\n",
       "\n",
       "    .dataframe thead th {\n",
       "        text-align: right;\n",
       "    }\n",
       "</style>\n",
       "<table border=\"1\" class=\"dataframe\">\n",
       "  <thead>\n",
       "    <tr style=\"text-align: right;\">\n",
       "      <th></th>\n",
       "      <th>New York</th>\n",
       "      <th>Oregon</th>\n",
       "      <th>California</th>\n",
       "    </tr>\n",
       "  </thead>\n",
       "  <tbody>\n",
       "    <tr>\n",
       "      <th>1990</th>\n",
       "      <td>NaN</td>\n",
       "      <td>NaN</td>\n",
       "      <td>NaN</td>\n",
       "    </tr>\n",
       "    <tr>\n",
       "      <th>1991</th>\n",
       "      <td>NaN</td>\n",
       "      <td>NaN</td>\n",
       "      <td>NaN</td>\n",
       "    </tr>\n",
       "    <tr>\n",
       "      <th>1992</th>\n",
       "      <td>-0.153846</td>\n",
       "      <td>-0.142857</td>\n",
       "      <td>-0.100866</td>\n",
       "    </tr>\n",
       "    <tr>\n",
       "      <th>1993</th>\n",
       "      <td>9.400000</td>\n",
       "      <td>2.500000</td>\n",
       "      <td>-2.049410</td>\n",
       "    </tr>\n",
       "  </tbody>\n",
       "</table>\n",
       "</div>"
      ],
      "text/plain": [
       "      New York    Oregon  California\n",
       "1990       NaN       NaN         NaN\n",
       "1991       NaN       NaN         NaN\n",
       "1992 -0.153846 -0.142857   -0.100866\n",
       "1993  9.400000  2.500000   -2.049410"
      ]
     },
     "execution_count": 136,
     "metadata": {},
     "output_type": "execute_result"
    }
   ],
   "source": [
    "#we can look at the percent chanage by calling pct_change() function\n",
    "pct_change = pct_change.pct_change()\n",
    "pct_change"
   ]
  },
  {
   "cell_type": "markdown",
   "metadata": {},
   "source": [
    "Now, you can transpose it back to a preferred dataframe by using `transpose()` that we used above. Here we see the percent change across time for two regions."
   ]
  },
  {
   "cell_type": "code",
   "execution_count": 137,
   "metadata": {
    "scrolled": true
   },
   "outputs": [
    {
     "data": {
      "text/html": [
       "<div>\n",
       "<style scoped>\n",
       "    .dataframe tbody tr th:only-of-type {\n",
       "        vertical-align: middle;\n",
       "    }\n",
       "\n",
       "    .dataframe tbody tr th {\n",
       "        vertical-align: top;\n",
       "    }\n",
       "\n",
       "    .dataframe thead th {\n",
       "        text-align: right;\n",
       "    }\n",
       "</style>\n",
       "<table border=\"1\" class=\"dataframe\">\n",
       "  <thead>\n",
       "    <tr style=\"text-align: right;\">\n",
       "      <th></th>\n",
       "      <th>1990</th>\n",
       "      <th>1991</th>\n",
       "      <th>1992</th>\n",
       "      <th>1993</th>\n",
       "    </tr>\n",
       "  </thead>\n",
       "  <tbody>\n",
       "    <tr>\n",
       "      <th>New York</th>\n",
       "      <td>NaN</td>\n",
       "      <td>NaN</td>\n",
       "      <td>-0.153846</td>\n",
       "      <td>9.40000</td>\n",
       "    </tr>\n",
       "    <tr>\n",
       "      <th>Oregon</th>\n",
       "      <td>NaN</td>\n",
       "      <td>NaN</td>\n",
       "      <td>-0.142857</td>\n",
       "      <td>2.50000</td>\n",
       "    </tr>\n",
       "    <tr>\n",
       "      <th>California</th>\n",
       "      <td>NaN</td>\n",
       "      <td>NaN</td>\n",
       "      <td>-0.100866</td>\n",
       "      <td>-2.04941</td>\n",
       "    </tr>\n",
       "  </tbody>\n",
       "</table>\n",
       "</div>"
      ],
      "text/plain": [
       "            1990  1991      1992     1993\n",
       "New York     NaN   NaN -0.153846  9.40000\n",
       "Oregon       NaN   NaN -0.142857  2.50000\n",
       "California   NaN   NaN -0.100866 -2.04941"
      ]
     },
     "execution_count": 137,
     "metadata": {},
     "output_type": "execute_result"
    }
   ],
   "source": [
    "pct_change_transpose = pct_change.transpose()\n",
    "pct_change_transpose"
   ]
  },
  {
   "cell_type": "markdown",
   "metadata": {},
   "source": [
    "Let try to sort out a dataframe using `sort_values()`. Here, we can try sorting the pivot table we had earlier. You'd specify which column to sort by. By default, the dataframe is sorted by smallest first, you can specify the `ascending=False` for largest values first. This function will also sort alphabets."
   ]
  },
  {
   "cell_type": "code",
   "execution_count": 127,
   "metadata": {},
   "outputs": [
    {
     "data": {
      "text/html": [
       "<div>\n",
       "<style scoped>\n",
       "    .dataframe tbody tr th:only-of-type {\n",
       "        vertical-align: middle;\n",
       "    }\n",
       "\n",
       "    .dataframe tbody tr th {\n",
       "        vertical-align: top;\n",
       "    }\n",
       "\n",
       "    .dataframe thead th {\n",
       "        text-align: right;\n",
       "    }\n",
       "</style>\n",
       "<table border=\"1\" class=\"dataframe\">\n",
       "  <thead>\n",
       "    <tr style=\"text-align: right;\">\n",
       "      <th></th>\n",
       "      <th>month</th>\n",
       "      <th>year</th>\n",
       "      <th>sale</th>\n",
       "      <th>size</th>\n",
       "    </tr>\n",
       "  </thead>\n",
       "  <tbody>\n",
       "    <tr>\n",
       "      <th>0</th>\n",
       "      <td>1</td>\n",
       "      <td>2012</td>\n",
       "      <td>55</td>\n",
       "      <td>big</td>\n",
       "    </tr>\n",
       "    <tr>\n",
       "      <th>1</th>\n",
       "      <td>4</td>\n",
       "      <td>2012</td>\n",
       "      <td>40</td>\n",
       "      <td>small</td>\n",
       "    </tr>\n",
       "    <tr>\n",
       "      <th>2</th>\n",
       "      <td>7</td>\n",
       "      <td>2013</td>\n",
       "      <td>84</td>\n",
       "      <td>big</td>\n",
       "    </tr>\n",
       "    <tr>\n",
       "      <th>3</th>\n",
       "      <td>10</td>\n",
       "      <td>2013</td>\n",
       "      <td>31</td>\n",
       "      <td>small</td>\n",
       "    </tr>\n",
       "  </tbody>\n",
       "</table>\n",
       "</div>"
      ],
      "text/plain": [
       "   month  year  sale   size\n",
       "0      1  2012    55    big\n",
       "1      4  2012    40  small\n",
       "2      7  2013    84    big\n",
       "3     10  2013    31  small"
      ]
     },
     "execution_count": 127,
     "metadata": {},
     "output_type": "execute_result"
    }
   ],
   "source": [
    "pivot_df"
   ]
  },
  {
   "cell_type": "code",
   "execution_count": 128,
   "metadata": {},
   "outputs": [
    {
     "data": {
      "text/html": [
       "<div>\n",
       "<style scoped>\n",
       "    .dataframe tbody tr th:only-of-type {\n",
       "        vertical-align: middle;\n",
       "    }\n",
       "\n",
       "    .dataframe tbody tr th {\n",
       "        vertical-align: top;\n",
       "    }\n",
       "\n",
       "    .dataframe thead th {\n",
       "        text-align: right;\n",
       "    }\n",
       "</style>\n",
       "<table border=\"1\" class=\"dataframe\">\n",
       "  <thead>\n",
       "    <tr style=\"text-align: right;\">\n",
       "      <th></th>\n",
       "      <th>month</th>\n",
       "      <th>year</th>\n",
       "      <th>sale</th>\n",
       "      <th>size</th>\n",
       "    </tr>\n",
       "  </thead>\n",
       "  <tbody>\n",
       "    <tr>\n",
       "      <th>2</th>\n",
       "      <td>7</td>\n",
       "      <td>2013</td>\n",
       "      <td>84</td>\n",
       "      <td>big</td>\n",
       "    </tr>\n",
       "    <tr>\n",
       "      <th>3</th>\n",
       "      <td>10</td>\n",
       "      <td>2013</td>\n",
       "      <td>31</td>\n",
       "      <td>small</td>\n",
       "    </tr>\n",
       "    <tr>\n",
       "      <th>0</th>\n",
       "      <td>1</td>\n",
       "      <td>2012</td>\n",
       "      <td>55</td>\n",
       "      <td>big</td>\n",
       "    </tr>\n",
       "    <tr>\n",
       "      <th>1</th>\n",
       "      <td>4</td>\n",
       "      <td>2012</td>\n",
       "      <td>40</td>\n",
       "      <td>small</td>\n",
       "    </tr>\n",
       "  </tbody>\n",
       "</table>\n",
       "</div>"
      ],
      "text/plain": [
       "   month  year  sale   size\n",
       "2      7  2013    84    big\n",
       "3     10  2013    31  small\n",
       "0      1  2012    55    big\n",
       "1      4  2012    40  small"
      ]
     },
     "execution_count": 128,
     "metadata": {},
     "output_type": "execute_result"
    }
   ],
   "source": [
    "sorted_df = pivot_df.sort_values(by='year', ascending=False)\n",
    "sorted_df"
   ]
  },
  {
   "cell_type": "code",
   "execution_count": 101,
   "metadata": {},
   "outputs": [],
   "source": [
    "#TODO: Try this pct_change & sort values with Alameda joined dataset\n",
    "\n"
   ]
  },
  {
   "cell_type": "markdown",
   "metadata": {},
   "source": [
    "### Groupby & Aggregate "
   ]
  },
  {
   "cell_type": "markdown",
   "metadata": {},
   "source": [
    "`groupby()` is a neat function that goes hand in hand with an aggregate function just like pivot. Take for example our sorted_df above, we can group by the column name and tell pandas what we would to do with the values across all  other columns that are not grouped."
   ]
  },
  {
   "cell_type": "code",
   "execution_count": 131,
   "metadata": {},
   "outputs": [
    {
     "data": {
      "text/html": [
       "<div>\n",
       "<style scoped>\n",
       "    .dataframe tbody tr th:only-of-type {\n",
       "        vertical-align: middle;\n",
       "    }\n",
       "\n",
       "    .dataframe tbody tr th {\n",
       "        vertical-align: top;\n",
       "    }\n",
       "\n",
       "    .dataframe thead th {\n",
       "        text-align: right;\n",
       "    }\n",
       "</style>\n",
       "<table border=\"1\" class=\"dataframe\">\n",
       "  <thead>\n",
       "    <tr style=\"text-align: right;\">\n",
       "      <th></th>\n",
       "      <th>month</th>\n",
       "      <th>year</th>\n",
       "      <th>sale</th>\n",
       "    </tr>\n",
       "    <tr>\n",
       "      <th>size</th>\n",
       "      <th></th>\n",
       "      <th></th>\n",
       "      <th></th>\n",
       "    </tr>\n",
       "  </thead>\n",
       "  <tbody>\n",
       "    <tr>\n",
       "      <th>big</th>\n",
       "      <td>8</td>\n",
       "      <td>4025</td>\n",
       "      <td>139</td>\n",
       "    </tr>\n",
       "    <tr>\n",
       "      <th>small</th>\n",
       "      <td>14</td>\n",
       "      <td>4025</td>\n",
       "      <td>71</td>\n",
       "    </tr>\n",
       "  </tbody>\n",
       "</table>\n",
       "</div>"
      ],
      "text/plain": [
       "       month  year  sale\n",
       "size                    \n",
       "big        8  4025   139\n",
       "small     14  4025    71"
      ]
     },
     "execution_count": 131,
     "metadata": {},
     "output_type": "execute_result"
    }
   ],
   "source": [
    "sorted_df.groupby(['size']).sum()"
   ]
  },
  {
   "cell_type": "code",
   "execution_count": 134,
   "metadata": {},
   "outputs": [],
   "source": [
    "#TODO: try groupby and use other aggregate function like mean(), count(), max(), min(), etc\n",
    "\n"
   ]
  },
  {
   "cell_type": "markdown",
   "metadata": {},
   "source": [
    "### Attribute & Spatial Join"
   ]
  },
  {
   "cell_type": "markdown",
   "metadata": {},
   "source": [
    "The geopandas package is built for us to do attribute and spatial join. \n",
    "\n",
    "In an attribute join, a GeoDataFrame is combined with a regular DataFrame based on a common variable. This is analogous to normal merging or joining in pandas. To keep the output as a GeoDataFrame, be sure to call the merge with the GeoDataFrame in the left argument; if a DataFrame is in the left argument and a GeoDataFrame is in the right position, the result will no longer be a GeoDataFrame.<br>\n",
    "\n",
    "For example, this is an attribute join with country_shapes being the GeoDataFrame and country_name is the DataFrame:\n",
    "\n",
    "`country_shapes = country_shapes.merge(country_names, on='iso_a3')`\n",
    "\n",
    "In this exercise, our Alameda GeoDataFrame and Alameda DataFrame don't have a unique key for our merge `on = \" \"` argument, it would not make sense for us to do a attribute join. \n",
    "\n",
    "In a Spatial Join, two GeoDataFrames are combined based on their spatial relationship to one another from their own geometry columns. This spatial join can also be done using ArcMap or QGIS software that you can download. The result is a shapefile that we can later save for our GIS analysis. <br>\n",
    "\n",
    "First, let's look at the different types of arguments og `sjoin.()`:\n",
    "\n"
   ]
  },
  {
   "cell_type": "markdown",
   "metadata": {},
   "source": [
    "| Argument | Input | Behavior |\n",
    "|----------|--------------|------------------------------------------------------------------------------------------------------------------------------------------------------------|\n",
    "| `op` | *intersects* | <div style=\"text-align: justify\"> The attributes will be joined if the boundary and  interior of the object intersect <br> in any way with the boundary and/or  interior of the other object.  </div> |\n",
    "|  | *within* | <div style=\"text-align: justify\"> The attributes will be joined if the object’s boundary and interior <br> intersect only with the interior of the other object  (not its boundary or exterior).  </div>  |\n",
    "|  | *contains* | <div style=\"text-align: justify\"> The attributes will be joined if the object’s interior contains <br>the boundary and interior of the other object and their  boundaries do not touch at all.  </div>  |\n",
    "|----------|--------------|--------------------------------------------------------------------------------------------------------------------|\n",
    "| `how` | *left* |  <div style=\"text-align: justify\"> use the index from the first (or left_df) geodataframe that you provide to sjoin; retain <br> only the left_df geometry column.  </div> |\n",
    "|  | *right* | <div style=\"text-align: justify\"> use index from second (or right_df); retain only the right_df <br>  geometry column.  </div>  |\n",
    "|  | *inner* | <div style=\"text-align: justify\"> use intersection of index values from both geodataframes; <br> retain only the left_df geometry column.  </div>  |                  |                           |"
   ]
  },
  {
   "cell_type": "markdown",
   "metadata": {},
   "source": [
    "We still need to turn our Alameda joined DataFrame to a GeoDataFrame, we can use the function `points_from_xy()` if we have the coordinates x,y. It turns out that we do, here, the geometry column is now consists of POINTs generated from the coordinates."
   ]
  },
  {
   "cell_type": "code",
   "execution_count": 191,
   "metadata": {
    "scrolled": true
   },
   "outputs": [
    {
     "data": {
      "text/html": [
       "<div>\n",
       "<style scoped>\n",
       "    .dataframe tbody tr th:only-of-type {\n",
       "        vertical-align: middle;\n",
       "    }\n",
       "\n",
       "    .dataframe tbody tr th {\n",
       "        vertical-align: top;\n",
       "    }\n",
       "\n",
       "    .dataframe thead th {\n",
       "        text-align: right;\n",
       "    }\n",
       "</style>\n",
       "<table border=\"1\" class=\"dataframe\">\n",
       "  <thead>\n",
       "    <tr style=\"text-align: right;\">\n",
       "      <th></th>\n",
       "      <th>apn_x</th>\n",
       "      <th>dunsnumber</th>\n",
       "      <th>sa_property_id</th>\n",
       "      <th>sa_owner_1</th>\n",
       "      <th>sa_owner_1_mid</th>\n",
       "      <th>sa_owner_1_last</th>\n",
       "      <th>sa_owner_1_sp_first</th>\n",
       "      <th>sa_owner_2</th>\n",
       "      <th>sa_owner_2_first</th>\n",
       "      <th>sa_ownership_status_code</th>\n",
       "      <th>...</th>\n",
       "      <th>minx</th>\n",
       "      <th>miny</th>\n",
       "      <th>maxx</th>\n",
       "      <th>maxy</th>\n",
       "      <th>indzoning</th>\n",
       "      <th>category</th>\n",
       "      <th>area</th>\n",
       "      <th>area_updat</th>\n",
       "      <th>county</th>\n",
       "      <th>geometry</th>\n",
       "    </tr>\n",
       "  </thead>\n",
       "  <tbody>\n",
       "    <tr>\n",
       "      <th>0</th>\n",
       "      <td>99-1331-18</td>\n",
       "      <td>1043780</td>\n",
       "      <td>38398684.0</td>\n",
       "      <td>CITY OF LIVERMORE</td>\n",
       "      <td>NaN</td>\n",
       "      <td>NaN</td>\n",
       "      <td>NaN</td>\n",
       "      <td>CITY CLERK</td>\n",
       "      <td>CITY CLERK</td>\n",
       "      <td>NaN</td>\n",
       "      <td>...</td>\n",
       "      <td>-121.80021</td>\n",
       "      <td>37.693077</td>\n",
       "      <td>-121.79876</td>\n",
       "      <td>37.694302</td>\n",
       "      <td>AIR-SE/AIR-OP</td>\n",
       "      <td>transp</td>\n",
       "      <td>3.833827</td>\n",
       "      <td>3.833827</td>\n",
       "      <td>Alameda</td>\n",
       "      <td>POINT (-121.79942 37.69367)</td>\n",
       "    </tr>\n",
       "    <tr>\n",
       "      <th>1</th>\n",
       "      <td>946-1250-37</td>\n",
       "      <td>1118400</td>\n",
       "      <td>38543377.0</td>\n",
       "      <td>M &amp; M LAND COMPANY LLC</td>\n",
       "      <td>NaN</td>\n",
       "      <td>NaN</td>\n",
       "      <td>NaN</td>\n",
       "      <td>NaN</td>\n",
       "      <td>NaN</td>\n",
       "      <td>NaN</td>\n",
       "      <td>...</td>\n",
       "      <td>-121.85358</td>\n",
       "      <td>37.675129</td>\n",
       "      <td>-121.85317</td>\n",
       "      <td>37.675617</td>\n",
       "      <td>I-G-40</td>\n",
       "      <td>medium</td>\n",
       "      <td>0.459112</td>\n",
       "      <td>0.459112</td>\n",
       "      <td>Alameda</td>\n",
       "      <td>POINT (-121.85338 37.67537)</td>\n",
       "    </tr>\n",
       "    <tr>\n",
       "      <th>2</th>\n",
       "      <td>57-2097-2-1</td>\n",
       "      <td>1251532</td>\n",
       "      <td>38272638.0</td>\n",
       "      <td>CITY OF BERKELEY</td>\n",
       "      <td>NaN</td>\n",
       "      <td>NaN</td>\n",
       "      <td>NaN</td>\n",
       "      <td>NaN</td>\n",
       "      <td>NaN</td>\n",
       "      <td>NaN</td>\n",
       "      <td>...</td>\n",
       "      <td>-122.29871</td>\n",
       "      <td>37.868526</td>\n",
       "      <td>-122.29802</td>\n",
       "      <td>37.869213</td>\n",
       "      <td>MU-R</td>\n",
       "      <td>MU-residential</td>\n",
       "      <td>0.758505</td>\n",
       "      <td>0.758505</td>\n",
       "      <td>Alameda</td>\n",
       "      <td>POINT (-122.29836 37.86887)</td>\n",
       "    </tr>\n",
       "  </tbody>\n",
       "</table>\n",
       "<p>3 rows × 119 columns</p>\n",
       "</div>"
      ],
      "text/plain": [
       "         apn_x  dunsnumber  sa_property_id              sa_owner_1  \\\n",
       "0   99-1331-18     1043780      38398684.0       CITY OF LIVERMORE   \n",
       "1  946-1250-37     1118400      38543377.0  M & M LAND COMPANY LLC   \n",
       "2  57-2097-2-1     1251532      38272638.0        CITY OF BERKELEY   \n",
       "\n",
       "  sa_owner_1_mid sa_owner_1_last sa_owner_1_sp_first  sa_owner_2  \\\n",
       "0            NaN             NaN                 NaN  CITY CLERK   \n",
       "1            NaN             NaN                 NaN         NaN   \n",
       "2            NaN             NaN                 NaN         NaN   \n",
       "\n",
       "  sa_owner_2_first sa_ownership_status_code  ...       minx       miny  \\\n",
       "0       CITY CLERK                      NaN  ... -121.80021  37.693077   \n",
       "1              NaN                      NaN  ... -121.85358  37.675129   \n",
       "2              NaN                      NaN  ... -122.29871  37.868526   \n",
       "\n",
       "        maxx       maxy      indzoning        category      area area_updat  \\\n",
       "0 -121.79876  37.694302  AIR-SE/AIR-OP          transp  3.833827   3.833827   \n",
       "1 -121.85317  37.675617         I-G-40          medium  0.459112   0.459112   \n",
       "2 -122.29802  37.869213           MU-R  MU-residential  0.758505   0.758505   \n",
       "\n",
       "    county                     geometry  \n",
       "0  Alameda  POINT (-121.79942 37.69367)  \n",
       "1  Alameda  POINT (-121.85338 37.67537)  \n",
       "2  Alameda  POINT (-122.29836 37.86887)  \n",
       "\n",
       "[3 rows x 119 columns]"
      ]
     },
     "execution_count": 191,
     "metadata": {},
     "output_type": "execute_result"
    }
   ],
   "source": [
    "csv_to_gdp = gdp.GeoDataFrame(\n",
    "    Alameda_merged_data, geometry=gdp.points_from_xy(Alameda_merged_data.xcoord, Alameda_merged_data.ycoord))\n",
    "csv_to_gdp.head(3)"
   ]
  },
  {
   "cell_type": "markdown",
   "metadata": {},
   "source": [
    "Now, we can perform a spatial join. Before that, we should check for any null geometry and drop them. GeoPandas would throw a fist for null values. <br>"
   ]
  },
  {
   "cell_type": "code",
   "execution_count": 192,
   "metadata": {
    "scrolled": true
   },
   "outputs": [
    {
     "data": {
      "text/plain": [
       "35"
      ]
     },
     "execution_count": 192,
     "metadata": {},
     "output_type": "execute_result"
    }
   ],
   "source": [
    "alameda_shp['geometry'].isnull().sum()"
   ]
  },
  {
   "cell_type": "code",
   "execution_count": 193,
   "metadata": {},
   "outputs": [
    {
     "data": {
      "text/plain": [
       "0"
      ]
     },
     "execution_count": 193,
     "metadata": {},
     "output_type": "execute_result"
    }
   ],
   "source": [
    "#We will drop rows that has no value under the geometry column \n",
    "alameda_shp = alameda_shp.dropna(subset=['geometry'])\n",
    "\n",
    "#Lets check again to make sure that we did it\n",
    "alameda_shp['geometry'].isnull().sum()"
   ]
  },
  {
   "cell_type": "code",
   "execution_count": 194,
   "metadata": {},
   "outputs": [
    {
     "data": {
      "text/plain": [
       "0"
      ]
     },
     "execution_count": 194,
     "metadata": {},
     "output_type": "execute_result"
    }
   ],
   "source": [
    "#Because we are paranoid, we will check our newly converted GeoDataFrame too\n",
    "csv_to_gdp['geometry'].isnull().sum()"
   ]
  },
  {
   "cell_type": "code",
   "execution_count": 195,
   "metadata": {
    "scrolled": true
   },
   "outputs": [],
   "source": [
    "#Great, now we can join finally, we would like op to be intersects and how to be inner\n",
    "alameda_spatial_join = gdp.sjoin(alameda_shp, csv_to_gdp, op='intersects', how='inner')"
   ]
  },
  {
   "cell_type": "code",
   "execution_count": 196,
   "metadata": {
    "scrolled": true
   },
   "outputs": [
    {
     "data": {
      "text/plain": [
       "geopandas.geodataframe.GeoDataFrame"
      ]
     },
     "execution_count": 196,
     "metadata": {},
     "output_type": "execute_result"
    }
   ],
   "source": [
    "#Is it still a GeoDataFrame\n",
    "type(alameda_spatial_join)"
   ]
  },
  {
   "cell_type": "code",
   "execution_count": 198,
   "metadata": {
    "scrolled": true
   },
   "outputs": [
    {
     "data": {
      "text/html": [
       "<div>\n",
       "<style scoped>\n",
       "    .dataframe tbody tr th:only-of-type {\n",
       "        vertical-align: middle;\n",
       "    }\n",
       "\n",
       "    .dataframe tbody tr th {\n",
       "        vertical-align: top;\n",
       "    }\n",
       "\n",
       "    .dataframe thead th {\n",
       "        text-align: right;\n",
       "    }\n",
       "</style>\n",
       "<table border=\"1\" class=\"dataframe\">\n",
       "  <thead>\n",
       "    <tr style=\"text-align: right;\">\n",
       "      <th></th>\n",
       "      <th>APN</th>\n",
       "      <th>APN2</th>\n",
       "      <th>SIT_FULL_S</th>\n",
       "      <th>SIT_CITY</th>\n",
       "      <th>SIT_ZIP</th>\n",
       "      <th>Xcoord</th>\n",
       "      <th>Ycoord</th>\n",
       "      <th>minX</th>\n",
       "      <th>minY</th>\n",
       "      <th>maxX</th>\n",
       "      <th>...</th>\n",
       "      <th>ycoord</th>\n",
       "      <th>minx</th>\n",
       "      <th>miny</th>\n",
       "      <th>maxx</th>\n",
       "      <th>maxy</th>\n",
       "      <th>indzoning</th>\n",
       "      <th>category</th>\n",
       "      <th>area</th>\n",
       "      <th>area_updat</th>\n",
       "      <th>county</th>\n",
       "    </tr>\n",
       "  </thead>\n",
       "  <tbody>\n",
       "    <tr>\n",
       "      <th>295</th>\n",
       "      <td>94-219-31</td>\n",
       "      <td>094 021903100</td>\n",
       "      <td>73 BAY ST</td>\n",
       "      <td>Pleasanton</td>\n",
       "      <td>94566</td>\n",
       "      <td>-121.871073</td>\n",
       "      <td>37.663494</td>\n",
       "      <td>-121.871454</td>\n",
       "      <td>37.663273</td>\n",
       "      <td>-121.870813</td>\n",
       "      <td>...</td>\n",
       "      <td>37.663494</td>\n",
       "      <td>-121.87145</td>\n",
       "      <td>37.663273</td>\n",
       "      <td>-121.87081</td>\n",
       "      <td>37.663773</td>\n",
       "      <td>I-G-40</td>\n",
       "      <td>NaN</td>\n",
       "      <td>0.433179</td>\n",
       "      <td>0.433179</td>\n",
       "      <td>Alameda</td>\n",
       "    </tr>\n",
       "    <tr>\n",
       "      <th>394</th>\n",
       "      <td>94-109-15</td>\n",
       "      <td>094 010901500</td>\n",
       "      <td>4062 WALNUT DR</td>\n",
       "      <td>Pleasanton</td>\n",
       "      <td>94566</td>\n",
       "      <td>-121.870130</td>\n",
       "      <td>37.664759</td>\n",
       "      <td>-121.870307</td>\n",
       "      <td>37.664604</td>\n",
       "      <td>-121.869974</td>\n",
       "      <td>...</td>\n",
       "      <td>37.664761</td>\n",
       "      <td>-121.87031</td>\n",
       "      <td>37.664604</td>\n",
       "      <td>-121.86997</td>\n",
       "      <td>37.664879</td>\n",
       "      <td>I-G-40</td>\n",
       "      <td>NaN</td>\n",
       "      <td>0.117773</td>\n",
       "      <td>0.117773</td>\n",
       "      <td>Alameda</td>\n",
       "    </tr>\n",
       "    <tr>\n",
       "      <th>397</th>\n",
       "      <td>94-219-32</td>\n",
       "      <td>094 021903200</td>\n",
       "      <td>None</td>\n",
       "      <td>Pleasanton</td>\n",
       "      <td>94566</td>\n",
       "      <td>-121.869903</td>\n",
       "      <td>37.664673</td>\n",
       "      <td>-121.870994</td>\n",
       "      <td>37.663250</td>\n",
       "      <td>-121.868812</td>\n",
       "      <td>...</td>\n",
       "      <td>37.664673</td>\n",
       "      <td>-121.87099</td>\n",
       "      <td>37.663250</td>\n",
       "      <td>-121.86881</td>\n",
       "      <td>37.665199</td>\n",
       "      <td>I-G-40</td>\n",
       "      <td>NaN</td>\n",
       "      <td>0.600160</td>\n",
       "      <td>0.600160</td>\n",
       "      <td>Alameda</td>\n",
       "    </tr>\n",
       "    <tr>\n",
       "      <th>397</th>\n",
       "      <td>94-219-32</td>\n",
       "      <td>094 021903200</td>\n",
       "      <td>None</td>\n",
       "      <td>Pleasanton</td>\n",
       "      <td>94566</td>\n",
       "      <td>-121.869903</td>\n",
       "      <td>37.664673</td>\n",
       "      <td>-121.870994</td>\n",
       "      <td>37.663250</td>\n",
       "      <td>-121.868812</td>\n",
       "      <td>...</td>\n",
       "      <td>37.664673</td>\n",
       "      <td>-121.87099</td>\n",
       "      <td>37.663250</td>\n",
       "      <td>-121.86881</td>\n",
       "      <td>37.665199</td>\n",
       "      <td>I-G-40</td>\n",
       "      <td>NaN</td>\n",
       "      <td>0.600160</td>\n",
       "      <td>0.600160</td>\n",
       "      <td>Alameda</td>\n",
       "    </tr>\n",
       "    <tr>\n",
       "      <th>403</th>\n",
       "      <td>3-73-16</td>\n",
       "      <td>003 007301600</td>\n",
       "      <td>678 14TH ST</td>\n",
       "      <td>Oakland</td>\n",
       "      <td>94612</td>\n",
       "      <td>-122.276589</td>\n",
       "      <td>37.806733</td>\n",
       "      <td>-122.276732</td>\n",
       "      <td>37.806581</td>\n",
       "      <td>-122.276446</td>\n",
       "      <td>...</td>\n",
       "      <td>37.806732</td>\n",
       "      <td>-122.27673</td>\n",
       "      <td>37.806580</td>\n",
       "      <td>-122.27644</td>\n",
       "      <td>37.806885</td>\n",
       "      <td>CBD-X</td>\n",
       "      <td>MU-commercial</td>\n",
       "      <td>0.096723</td>\n",
       "      <td>0.096723</td>\n",
       "      <td>Alameda</td>\n",
       "    </tr>\n",
       "  </tbody>\n",
       "</table>\n",
       "<p>5 rows × 132 columns</p>\n",
       "</div>"
      ],
      "text/plain": [
       "           APN           APN2      SIT_FULL_S    SIT_CITY SIT_ZIP      Xcoord  \\\n",
       "295  94-219-31  094 021903100       73 BAY ST  Pleasanton   94566 -121.871073   \n",
       "394  94-109-15  094 010901500  4062 WALNUT DR  Pleasanton   94566 -121.870130   \n",
       "397  94-219-32  094 021903200            None  Pleasanton   94566 -121.869903   \n",
       "397  94-219-32  094 021903200            None  Pleasanton   94566 -121.869903   \n",
       "403    3-73-16  003 007301600     678 14TH ST     Oakland   94612 -122.276589   \n",
       "\n",
       "        Ycoord        minX       minY        maxX  ...     ycoord       minx  \\\n",
       "295  37.663494 -121.871454  37.663273 -121.870813  ...  37.663494 -121.87145   \n",
       "394  37.664759 -121.870307  37.664604 -121.869974  ...  37.664761 -121.87031   \n",
       "397  37.664673 -121.870994  37.663250 -121.868812  ...  37.664673 -121.87099   \n",
       "397  37.664673 -121.870994  37.663250 -121.868812  ...  37.664673 -121.87099   \n",
       "403  37.806733 -122.276732  37.806581 -122.276446  ...  37.806732 -122.27673   \n",
       "\n",
       "          miny       maxx       maxy  indzoning       category      area  \\\n",
       "295  37.663273 -121.87081  37.663773     I-G-40            NaN  0.433179   \n",
       "394  37.664604 -121.86997  37.664879     I-G-40            NaN  0.117773   \n",
       "397  37.663250 -121.86881  37.665199     I-G-40            NaN  0.600160   \n",
       "397  37.663250 -121.86881  37.665199     I-G-40            NaN  0.600160   \n",
       "403  37.806580 -122.27644  37.806885      CBD-X  MU-commercial  0.096723   \n",
       "\n",
       "    area_updat   county  \n",
       "295   0.433179  Alameda  \n",
       "394   0.117773  Alameda  \n",
       "397   0.600160  Alameda  \n",
       "397   0.600160  Alameda  \n",
       "403   0.096723  Alameda  \n",
       "\n",
       "[5 rows x 132 columns]"
      ]
     },
     "execution_count": 198,
     "metadata": {},
     "output_type": "execute_result"
    }
   ],
   "source": [
    "alameda_spatial_join.head()"
   ]
  },
  {
   "cell_type": "code",
   "execution_count": 197,
   "metadata": {},
   "outputs": [],
   "source": [
    "alameda_spatial_join.to_file(r\"files\\data\\Alameda_shapefile\\Alameda_spatial_join\\Alameda_spatial_join.shp\")"
   ]
  },
  {
   "cell_type": "markdown",
   "metadata": {},
   "source": [
    "Since we used the intersects and inner arguments for our spatial join, the resulting polygons are reduced. Lets' make a quick plot to see if that is the case. "
   ]
  },
  {
   "cell_type": "code",
   "execution_count": 201,
   "metadata": {
    "scrolled": true
   },
   "outputs": [
    {
     "data": {
      "text/plain": [
       "<matplotlib.axes._subplots.AxesSubplot at 0x2021cf89748>"
      ]
     },
     "execution_count": 201,
     "metadata": {},
     "output_type": "execute_result"
    },
    {
     "data": {
      "image/png": "[encoded data removed]",
      "text/plain": [
       "<Figure size 432x288 with 1 Axes>"
      ]
     },
     "metadata": {
      "needs_background": "light"
     },
     "output_type": "display_data"
    }
   ],
   "source": [
    "alameda_shp.plot()"
   ]
  },
  {
   "cell_type": "code",
   "execution_count": 202,
   "metadata": {},
   "outputs": [
    {
     "data": {
      "text/plain": [
       "<matplotlib.axes._subplots.AxesSubplot at 0x2021d786708>"
      ]
     },
     "execution_count": 202,
     "metadata": {},
     "output_type": "execute_result"
    },
    {
     "data": {
      "image/png": "[encoded data removed]",
      "text/plain": [
       "<Figure size 432x288 with 1 Axes>"
      ]
     },
     "metadata": {
      "needs_background": "light"
     },
     "output_type": "display_data"
    }
   ],
   "source": [
    "alameda_spatial_join.plot()"
   ]
  },
  {
   "cell_type": "markdown",
   "metadata": {},
   "source": [
    "### Author: Alice Hua\n"
   ]
  },
  {
   "cell_type": "markdown",
   "metadata": {},
   "source": [
    "### References"
   ]
  },
  {
   "cell_type": "markdown",
   "metadata": {},
   "source": [
    "Pandas on Merge: https://pandas.pydata.org/pandas-docs/stable/user_guide/merging.html <br>\n",
    "Geopandas on Spatial Join: http://geopandas.org/mergingdata.html <br>\n",
    "Geopandas on data structure: http://geopandas.org/data_structures.html <br>\n",
    "ArcGIS Spatial Join: https://www.youtube.com/watch?v=g9vN0QAWueQ <br>\n",
    "QGIS Spatial Join: https://www.youtube.com/watch?v=GjE3cq-8CGg"
   ]
  },
  {
   "cell_type": "code",
   "execution_count": null,
   "metadata": {},
   "outputs": [],
   "source": []
  }
 ],
 "metadata": {
  "kernelspec": {
   "display_name": "Python 3",
   "language": "python",
   "name": "python3"
  },
  "language_info": {
   "codemirror_mode": {
    "name": "ipython",
    "version": 3
   },
   "file_extension": ".py",
   "mimetype": "text/x-python",
   "name": "python",
   "nbconvert_exporter": "python",
   "pygments_lexer": "ipython3",
   "version": "3.7.4"
  }
 },
 "nbformat": 4,
 "nbformat_minor": 2
}
